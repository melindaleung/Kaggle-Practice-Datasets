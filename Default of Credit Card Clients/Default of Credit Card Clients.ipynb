{
 "cells": [
  {
   "cell_type": "markdown",
   "metadata": {},
   "source": [
    "# Default of Credit Card Clients\n",
    "\n",
    "Credit card default is the failure to meet the legal obligations of a credit card, like paying your credit card in a timely manner. This not only lowers your credit score, but affects your ability to get approved for other credit cards, loans, and other credit-based services. \n",
    "\n",
    "Back in 2005, Taiwan faced a large cash and credit card debt crisis. Card-issuing banks over-issued cash and credit cards to unqualified applicants while cardholders overused credit card consumption and accumulated large debts. By February 2006, debt from credit and cash cards reached 268 billion dollars; more than half a million people were not able to repay their loans. \n",
    "\n",
    "This crisis not only hurt the financial system, but also resulted in significant societal problems. Many debtors committed suicide, some became homeless, and other's no longer could afford sending their children to school. People began resorting to illegal drug sales. In addition, violent and treatening collection practices added additional pressure. According to the Taiwanese Department of Health, 4,406 committed suicide in 2006 (which was a 22.9 percent increase from 2005). Suicide rates in Taiwain are the second highest in the world and the main reason often is unemployment and credit card debt.\n",
    "\n",
    "Credit card debt can lead to serious financial and societal issues. In order to prevent this from happening again, it is important to examine past credit card information to determine who are high risk borrows. Therefore, the government can effectively devise a solution to resolve this problem. \n",
    "\n",
    "*Source: [Taiwan's Credit Card Crisis](https://sevenpillarsinstitute.org/case-studies/taiwans-credit-card-crisis/) by Eric Wang*\n",
    "\n",
    "**Problem Statement:** How do you predict if a cardholder is likely to default on their credit card? What are the strongest predictors of default payment? What demographic variables indicate high risk borrowers?\n",
    "\n",
    "**Dataset Description:** This dataset has 23 predictor variables and 30000 instances. The ID variable was dropped. There are no missing values. \n",
    "\n",
    "```{r}\n",
    "   ----------------------------------------------------------------------------------------\n",
    "   Name                 Explantion        \n",
    "   -------------------- -------------------------------------------------------------------\n",
    "   limit_bal            Amount of the given credit (NT dollar) - Numeric\n",
    "                        it includes both the individual consumer credit \n",
    "                        and his/her family (supplementary) credit.\n",
    "\n",
    "   sex                  Gender - Categorical\n",
    "                        (1 = male; 2 = female)\n",
    "\n",
    "   education            Education - Categorical\n",
    "                        (1 = graduate school; 2 = university; 3 = high school; 4 = others)\n",
    "\n",
    "   marriage             Marital status - Categorical\n",
    "                        (1 = married; 2 = single; 3 = others)\n",
    "\n",
    "   age                  Age (years) - Numeric\n",
    "\n",
    "   pay_1 - pay_6        History of past payment. Past monthly payment records - Numeric\n",
    "                        From April to September, 2005 as follows:\n",
    "\n",
    "                        pay_1 = the repayment status in September, 2005\n",
    "                        pay_2 = the repayment status in August, 2005\n",
    "                        ...\n",
    "                        pay_6 = the repayment status in April, 2005 \n",
    "\n",
    "                        The measurement scale for the repayment status is: \n",
    "                        -1 = pay duly; \n",
    "                        1 = payment delay for one month \n",
    "                        2 = payment delay for two months\n",
    "                        ...\n",
    "                        8 = payment delay for eight months \n",
    "                        9 = payment delay for nine months and above\n",
    "\n",
    "   bill_amt1-bill_amt5  Amount of bill statement (NT dollar) - Numeric\n",
    "                        bill_amt1 = amount of bill statement in September, 2005 \n",
    "                        bill_amt2 = amount of bill statement in August, 2005\n",
    "                        ...\n",
    "                        bill_amt6= amount of bill statement in April, 2005 \n",
    "\n",
    "   pay_amt1-pay_amt6    Amount of previous payment (NT dollar) - Numeric\n",
    "                        pay_amt1 = amount paid in September, 2005\n",
    "                        pay_amt2 = amount paid in August, 2005\n",
    "                        ...\n",
    "                        pay_amt6 = amount paid in April, 2005 \n",
    "   ----------------------------------------------------------------------------------------\n",
    "```\n",
    "\n",
    "**Performance Metric:** Accuracy\n",
    "\n",
    "**Personal Goal:**\n",
    "- Learn to compare different predictive models using a larger binary classification dataset\n",
    "- Learn to use XGBoost\n",
    "- Create a model with at least 80% accuracy\n",
    "\n",
    "**Workflow**\n",
    "1. [Splitting the Data](#Splitting the Data)\n",
    "2. [EDA](#EDA)\n",
    "3. [Data Preprocessing](#Data Preprocessing)\n",
    "4. [Modeling](#Modeling)\n",
    "5. [XGBoost](#XGBoost)\n",
    "6. [Solution Statement](#Solution Statement)\n",
    "\n",
    "<a id='Splitting the Data'></a>\n",
    "\n",
    "# 1. Splitting the Data\n",
    "\n",
    "## Loading the Data"
   ]
  },
  {
   "cell_type": "code",
   "execution_count": 1,
   "metadata": {},
   "outputs": [],
   "source": [
    "import warnings\n",
    "warnings.filterwarnings('ignore')\n",
    "\n",
    "import pandas  as pd\n",
    "import numpy as np\n",
    "\n",
    "import seaborn as sns\n",
    "import matplotlib.pyplot as plt\n",
    "%matplotlib inline"
   ]
  },
  {
   "cell_type": "code",
   "execution_count": 2,
   "metadata": {},
   "outputs": [
    {
     "data": {
      "text/html": [
       "<div>\n",
       "<style scoped>\n",
       "    .dataframe tbody tr th:only-of-type {\n",
       "        vertical-align: middle;\n",
       "    }\n",
       "\n",
       "    .dataframe tbody tr th {\n",
       "        vertical-align: top;\n",
       "    }\n",
       "\n",
       "    .dataframe thead th {\n",
       "        text-align: right;\n",
       "    }\n",
       "</style>\n",
       "<table border=\"1\" class=\"dataframe\">\n",
       "  <thead>\n",
       "    <tr style=\"text-align: right;\">\n",
       "      <th></th>\n",
       "      <th>ID</th>\n",
       "      <th>LIMIT_BAL</th>\n",
       "      <th>SEX</th>\n",
       "      <th>EDUCATION</th>\n",
       "      <th>MARRIAGE</th>\n",
       "      <th>AGE</th>\n",
       "      <th>PAY_0</th>\n",
       "      <th>PAY_2</th>\n",
       "      <th>PAY_3</th>\n",
       "      <th>PAY_4</th>\n",
       "      <th>...</th>\n",
       "      <th>BILL_AMT4</th>\n",
       "      <th>BILL_AMT5</th>\n",
       "      <th>BILL_AMT6</th>\n",
       "      <th>PAY_AMT1</th>\n",
       "      <th>PAY_AMT2</th>\n",
       "      <th>PAY_AMT3</th>\n",
       "      <th>PAY_AMT4</th>\n",
       "      <th>PAY_AMT5</th>\n",
       "      <th>PAY_AMT6</th>\n",
       "      <th>default payment next month</th>\n",
       "    </tr>\n",
       "  </thead>\n",
       "  <tbody>\n",
       "    <tr>\n",
       "      <th>0</th>\n",
       "      <td>1</td>\n",
       "      <td>20000</td>\n",
       "      <td>2</td>\n",
       "      <td>2</td>\n",
       "      <td>1</td>\n",
       "      <td>24</td>\n",
       "      <td>2</td>\n",
       "      <td>2</td>\n",
       "      <td>-1</td>\n",
       "      <td>-1</td>\n",
       "      <td>...</td>\n",
       "      <td>0</td>\n",
       "      <td>0</td>\n",
       "      <td>0</td>\n",
       "      <td>0</td>\n",
       "      <td>689</td>\n",
       "      <td>0</td>\n",
       "      <td>0</td>\n",
       "      <td>0</td>\n",
       "      <td>0</td>\n",
       "      <td>1</td>\n",
       "    </tr>\n",
       "    <tr>\n",
       "      <th>1</th>\n",
       "      <td>2</td>\n",
       "      <td>120000</td>\n",
       "      <td>2</td>\n",
       "      <td>2</td>\n",
       "      <td>2</td>\n",
       "      <td>26</td>\n",
       "      <td>-1</td>\n",
       "      <td>2</td>\n",
       "      <td>0</td>\n",
       "      <td>0</td>\n",
       "      <td>...</td>\n",
       "      <td>3272</td>\n",
       "      <td>3455</td>\n",
       "      <td>3261</td>\n",
       "      <td>0</td>\n",
       "      <td>1000</td>\n",
       "      <td>1000</td>\n",
       "      <td>1000</td>\n",
       "      <td>0</td>\n",
       "      <td>2000</td>\n",
       "      <td>1</td>\n",
       "    </tr>\n",
       "    <tr>\n",
       "      <th>2</th>\n",
       "      <td>3</td>\n",
       "      <td>90000</td>\n",
       "      <td>2</td>\n",
       "      <td>2</td>\n",
       "      <td>2</td>\n",
       "      <td>34</td>\n",
       "      <td>0</td>\n",
       "      <td>0</td>\n",
       "      <td>0</td>\n",
       "      <td>0</td>\n",
       "      <td>...</td>\n",
       "      <td>14331</td>\n",
       "      <td>14948</td>\n",
       "      <td>15549</td>\n",
       "      <td>1518</td>\n",
       "      <td>1500</td>\n",
       "      <td>1000</td>\n",
       "      <td>1000</td>\n",
       "      <td>1000</td>\n",
       "      <td>5000</td>\n",
       "      <td>0</td>\n",
       "    </tr>\n",
       "    <tr>\n",
       "      <th>3</th>\n",
       "      <td>4</td>\n",
       "      <td>50000</td>\n",
       "      <td>2</td>\n",
       "      <td>2</td>\n",
       "      <td>1</td>\n",
       "      <td>37</td>\n",
       "      <td>0</td>\n",
       "      <td>0</td>\n",
       "      <td>0</td>\n",
       "      <td>0</td>\n",
       "      <td>...</td>\n",
       "      <td>28314</td>\n",
       "      <td>28959</td>\n",
       "      <td>29547</td>\n",
       "      <td>2000</td>\n",
       "      <td>2019</td>\n",
       "      <td>1200</td>\n",
       "      <td>1100</td>\n",
       "      <td>1069</td>\n",
       "      <td>1000</td>\n",
       "      <td>0</td>\n",
       "    </tr>\n",
       "    <tr>\n",
       "      <th>4</th>\n",
       "      <td>5</td>\n",
       "      <td>50000</td>\n",
       "      <td>1</td>\n",
       "      <td>2</td>\n",
       "      <td>1</td>\n",
       "      <td>57</td>\n",
       "      <td>-1</td>\n",
       "      <td>0</td>\n",
       "      <td>-1</td>\n",
       "      <td>0</td>\n",
       "      <td>...</td>\n",
       "      <td>20940</td>\n",
       "      <td>19146</td>\n",
       "      <td>19131</td>\n",
       "      <td>2000</td>\n",
       "      <td>36681</td>\n",
       "      <td>10000</td>\n",
       "      <td>9000</td>\n",
       "      <td>689</td>\n",
       "      <td>679</td>\n",
       "      <td>0</td>\n",
       "    </tr>\n",
       "  </tbody>\n",
       "</table>\n",
       "<p>5 rows × 25 columns</p>\n",
       "</div>"
      ],
      "text/plain": [
       "   ID  LIMIT_BAL  SEX  EDUCATION  MARRIAGE  AGE  PAY_0  PAY_2  PAY_3  PAY_4  \\\n",
       "0   1      20000    2          2         1   24      2      2     -1     -1   \n",
       "1   2     120000    2          2         2   26     -1      2      0      0   \n",
       "2   3      90000    2          2         2   34      0      0      0      0   \n",
       "3   4      50000    2          2         1   37      0      0      0      0   \n",
       "4   5      50000    1          2         1   57     -1      0     -1      0   \n",
       "\n",
       "              ...              BILL_AMT4  BILL_AMT5  BILL_AMT6  PAY_AMT1  \\\n",
       "0             ...                      0          0          0         0   \n",
       "1             ...                   3272       3455       3261         0   \n",
       "2             ...                  14331      14948      15549      1518   \n",
       "3             ...                  28314      28959      29547      2000   \n",
       "4             ...                  20940      19146      19131      2000   \n",
       "\n",
       "   PAY_AMT2  PAY_AMT3  PAY_AMT4  PAY_AMT5  PAY_AMT6  \\\n",
       "0       689         0         0         0         0   \n",
       "1      1000      1000      1000         0      2000   \n",
       "2      1500      1000      1000      1000      5000   \n",
       "3      2019      1200      1100      1069      1000   \n",
       "4     36681     10000      9000       689       679   \n",
       "\n",
       "   default payment next month  \n",
       "0                           1  \n",
       "1                           1  \n",
       "2                           0  \n",
       "3                           0  \n",
       "4                           0  \n",
       "\n",
       "[5 rows x 25 columns]"
      ]
     },
     "execution_count": 2,
     "metadata": {},
     "output_type": "execute_result"
    }
   ],
   "source": [
    "# Load in dataset\n",
    "data = pd.read_excel('./input/default_of_credit_card_clients.xls', header = 1)\n",
    "data.head()"
   ]
  },
  {
   "cell_type": "markdown",
   "metadata": {},
   "source": [
    "## Train Test Split\n",
    "\n",
    "In order to test my models, I have to separate the data into smaller train and test datasets."
   ]
  },
  {
   "cell_type": "code",
   "execution_count": 3,
   "metadata": {},
   "outputs": [],
   "source": [
    "from sklearn.model_selection import train_test_split"
   ]
  },
  {
   "cell_type": "code",
   "execution_count": 4,
   "metadata": {},
   "outputs": [],
   "source": [
    "train, test = train_test_split(data, test_size = 0.4, random_state = 42)"
   ]
  },
  {
   "cell_type": "code",
   "execution_count": 5,
   "metadata": {},
   "outputs": [],
   "source": [
    "# Ensure the test data doesn't have the answer\n",
    "test_solution = test['default payment next month']\n",
    "test = test.drop('default payment next month', axis = 1)"
   ]
  },
  {
   "cell_type": "markdown",
   "metadata": {},
   "source": [
    "<a id='EDA'></a>\n",
    "\n",
    "# 2. Exploratory Data Analysis\n",
    "\n",
    "## What are the strongest predictors of default payment? \n",
    "\n",
    "Looking at the dataset, I noticed there are no missing values in the dataset and every variable is numeric."
   ]
  },
  {
   "cell_type": "code",
   "execution_count": 6,
   "metadata": {},
   "outputs": [
    {
     "data": {
      "text/html": [
       "<div>\n",
       "<style scoped>\n",
       "    .dataframe tbody tr th:only-of-type {\n",
       "        vertical-align: middle;\n",
       "    }\n",
       "\n",
       "    .dataframe tbody tr th {\n",
       "        vertical-align: top;\n",
       "    }\n",
       "\n",
       "    .dataframe thead th {\n",
       "        text-align: right;\n",
       "    }\n",
       "</style>\n",
       "<table border=\"1\" class=\"dataframe\">\n",
       "  <thead>\n",
       "    <tr style=\"text-align: right;\">\n",
       "      <th></th>\n",
       "      <th>ID</th>\n",
       "      <th>LIMIT_BAL</th>\n",
       "      <th>SEX</th>\n",
       "      <th>EDUCATION</th>\n",
       "      <th>MARRIAGE</th>\n",
       "      <th>AGE</th>\n",
       "      <th>PAY_0</th>\n",
       "      <th>PAY_2</th>\n",
       "      <th>PAY_3</th>\n",
       "      <th>PAY_4</th>\n",
       "      <th>...</th>\n",
       "      <th>BILL_AMT4</th>\n",
       "      <th>BILL_AMT5</th>\n",
       "      <th>BILL_AMT6</th>\n",
       "      <th>PAY_AMT1</th>\n",
       "      <th>PAY_AMT2</th>\n",
       "      <th>PAY_AMT3</th>\n",
       "      <th>PAY_AMT4</th>\n",
       "      <th>PAY_AMT5</th>\n",
       "      <th>PAY_AMT6</th>\n",
       "      <th>default payment next month</th>\n",
       "    </tr>\n",
       "  </thead>\n",
       "  <tbody>\n",
       "    <tr>\n",
       "      <th>count</th>\n",
       "      <td>18000.000000</td>\n",
       "      <td>18000.000000</td>\n",
       "      <td>18000.000000</td>\n",
       "      <td>18000.000000</td>\n",
       "      <td>18000.000000</td>\n",
       "      <td>18000.000000</td>\n",
       "      <td>18000.000000</td>\n",
       "      <td>18000.000000</td>\n",
       "      <td>18000.000000</td>\n",
       "      <td>18000.000000</td>\n",
       "      <td>...</td>\n",
       "      <td>18000.000000</td>\n",
       "      <td>18000.000000</td>\n",
       "      <td>18000.000000</td>\n",
       "      <td>18000.000000</td>\n",
       "      <td>1.800000e+04</td>\n",
       "      <td>18000.000000</td>\n",
       "      <td>18000.000000</td>\n",
       "      <td>18000.000000</td>\n",
       "      <td>18000.000000</td>\n",
       "      <td>18000.000000</td>\n",
       "    </tr>\n",
       "    <tr>\n",
       "      <th>mean</th>\n",
       "      <td>15028.406556</td>\n",
       "      <td>167669.555556</td>\n",
       "      <td>1.604056</td>\n",
       "      <td>1.847722</td>\n",
       "      <td>1.551167</td>\n",
       "      <td>35.494278</td>\n",
       "      <td>-0.017778</td>\n",
       "      <td>-0.133556</td>\n",
       "      <td>-0.170278</td>\n",
       "      <td>-0.221444</td>\n",
       "      <td>...</td>\n",
       "      <td>43404.986889</td>\n",
       "      <td>40522.449111</td>\n",
       "      <td>39059.408833</td>\n",
       "      <td>5654.767222</td>\n",
       "      <td>6.046226e+03</td>\n",
       "      <td>5164.765556</td>\n",
       "      <td>4916.151889</td>\n",
       "      <td>4861.909278</td>\n",
       "      <td>5215.464222</td>\n",
       "      <td>0.221833</td>\n",
       "    </tr>\n",
       "    <tr>\n",
       "      <th>std</th>\n",
       "      <td>8682.690109</td>\n",
       "      <td>129565.655123</td>\n",
       "      <td>0.489066</td>\n",
       "      <td>0.791069</td>\n",
       "      <td>0.522130</td>\n",
       "      <td>9.220486</td>\n",
       "      <td>1.123872</td>\n",
       "      <td>1.194533</td>\n",
       "      <td>1.184682</td>\n",
       "      <td>1.160093</td>\n",
       "      <td>...</td>\n",
       "      <td>64540.116137</td>\n",
       "      <td>60984.582526</td>\n",
       "      <td>59565.529154</td>\n",
       "      <td>17316.636450</td>\n",
       "      <td>2.622850e+04</td>\n",
       "      <td>18060.466764</td>\n",
       "      <td>16101.909112</td>\n",
       "      <td>16021.170231</td>\n",
       "      <td>17761.720451</td>\n",
       "      <td>0.415491</td>\n",
       "    </tr>\n",
       "    <tr>\n",
       "      <th>min</th>\n",
       "      <td>1.000000</td>\n",
       "      <td>10000.000000</td>\n",
       "      <td>1.000000</td>\n",
       "      <td>0.000000</td>\n",
       "      <td>0.000000</td>\n",
       "      <td>21.000000</td>\n",
       "      <td>-2.000000</td>\n",
       "      <td>-2.000000</td>\n",
       "      <td>-2.000000</td>\n",
       "      <td>-2.000000</td>\n",
       "      <td>...</td>\n",
       "      <td>-170000.000000</td>\n",
       "      <td>-81334.000000</td>\n",
       "      <td>-209051.000000</td>\n",
       "      <td>0.000000</td>\n",
       "      <td>0.000000e+00</td>\n",
       "      <td>0.000000</td>\n",
       "      <td>0.000000</td>\n",
       "      <td>0.000000</td>\n",
       "      <td>0.000000</td>\n",
       "      <td>0.000000</td>\n",
       "    </tr>\n",
       "    <tr>\n",
       "      <th>25%</th>\n",
       "      <td>7435.750000</td>\n",
       "      <td>50000.000000</td>\n",
       "      <td>1.000000</td>\n",
       "      <td>1.000000</td>\n",
       "      <td>1.000000</td>\n",
       "      <td>28.000000</td>\n",
       "      <td>-1.000000</td>\n",
       "      <td>-1.000000</td>\n",
       "      <td>-1.000000</td>\n",
       "      <td>-1.000000</td>\n",
       "      <td>...</td>\n",
       "      <td>2301.000000</td>\n",
       "      <td>1744.500000</td>\n",
       "      <td>1284.750000</td>\n",
       "      <td>980.000000</td>\n",
       "      <td>9.000000e+02</td>\n",
       "      <td>390.000000</td>\n",
       "      <td>293.000000</td>\n",
       "      <td>286.000000</td>\n",
       "      <td>150.000000</td>\n",
       "      <td>0.000000</td>\n",
       "    </tr>\n",
       "    <tr>\n",
       "      <th>50%</th>\n",
       "      <td>15099.000000</td>\n",
       "      <td>140000.000000</td>\n",
       "      <td>2.000000</td>\n",
       "      <td>2.000000</td>\n",
       "      <td>2.000000</td>\n",
       "      <td>34.000000</td>\n",
       "      <td>0.000000</td>\n",
       "      <td>0.000000</td>\n",
       "      <td>0.000000</td>\n",
       "      <td>0.000000</td>\n",
       "      <td>...</td>\n",
       "      <td>19037.000000</td>\n",
       "      <td>18201.500000</td>\n",
       "      <td>17164.000000</td>\n",
       "      <td>2101.000000</td>\n",
       "      <td>2.023500e+03</td>\n",
       "      <td>1800.000000</td>\n",
       "      <td>1500.000000</td>\n",
       "      <td>1512.000000</td>\n",
       "      <td>1500.000000</td>\n",
       "      <td>0.000000</td>\n",
       "    </tr>\n",
       "    <tr>\n",
       "      <th>75%</th>\n",
       "      <td>22539.250000</td>\n",
       "      <td>240000.000000</td>\n",
       "      <td>2.000000</td>\n",
       "      <td>2.000000</td>\n",
       "      <td>2.000000</td>\n",
       "      <td>42.000000</td>\n",
       "      <td>0.000000</td>\n",
       "      <td>0.000000</td>\n",
       "      <td>0.000000</td>\n",
       "      <td>0.000000</td>\n",
       "      <td>...</td>\n",
       "      <td>55167.500000</td>\n",
       "      <td>50646.000000</td>\n",
       "      <td>49502.250000</td>\n",
       "      <td>5022.250000</td>\n",
       "      <td>5.000000e+03</td>\n",
       "      <td>4598.500000</td>\n",
       "      <td>4044.750000</td>\n",
       "      <td>4086.500000</td>\n",
       "      <td>4000.000000</td>\n",
       "      <td>0.000000</td>\n",
       "    </tr>\n",
       "    <tr>\n",
       "      <th>max</th>\n",
       "      <td>29999.000000</td>\n",
       "      <td>1000000.000000</td>\n",
       "      <td>2.000000</td>\n",
       "      <td>6.000000</td>\n",
       "      <td>3.000000</td>\n",
       "      <td>75.000000</td>\n",
       "      <td>8.000000</td>\n",
       "      <td>7.000000</td>\n",
       "      <td>8.000000</td>\n",
       "      <td>8.000000</td>\n",
       "      <td>...</td>\n",
       "      <td>891586.000000</td>\n",
       "      <td>927171.000000</td>\n",
       "      <td>961664.000000</td>\n",
       "      <td>873552.000000</td>\n",
       "      <td>1.684259e+06</td>\n",
       "      <td>896040.000000</td>\n",
       "      <td>621000.000000</td>\n",
       "      <td>426529.000000</td>\n",
       "      <td>527143.000000</td>\n",
       "      <td>1.000000</td>\n",
       "    </tr>\n",
       "  </tbody>\n",
       "</table>\n",
       "<p>8 rows × 25 columns</p>\n",
       "</div>"
      ],
      "text/plain": [
       "                 ID       LIMIT_BAL           SEX     EDUCATION      MARRIAGE  \\\n",
       "count  18000.000000    18000.000000  18000.000000  18000.000000  18000.000000   \n",
       "mean   15028.406556   167669.555556      1.604056      1.847722      1.551167   \n",
       "std     8682.690109   129565.655123      0.489066      0.791069      0.522130   \n",
       "min        1.000000    10000.000000      1.000000      0.000000      0.000000   \n",
       "25%     7435.750000    50000.000000      1.000000      1.000000      1.000000   \n",
       "50%    15099.000000   140000.000000      2.000000      2.000000      2.000000   \n",
       "75%    22539.250000   240000.000000      2.000000      2.000000      2.000000   \n",
       "max    29999.000000  1000000.000000      2.000000      6.000000      3.000000   \n",
       "\n",
       "                AGE         PAY_0         PAY_2         PAY_3         PAY_4  \\\n",
       "count  18000.000000  18000.000000  18000.000000  18000.000000  18000.000000   \n",
       "mean      35.494278     -0.017778     -0.133556     -0.170278     -0.221444   \n",
       "std        9.220486      1.123872      1.194533      1.184682      1.160093   \n",
       "min       21.000000     -2.000000     -2.000000     -2.000000     -2.000000   \n",
       "25%       28.000000     -1.000000     -1.000000     -1.000000     -1.000000   \n",
       "50%       34.000000      0.000000      0.000000      0.000000      0.000000   \n",
       "75%       42.000000      0.000000      0.000000      0.000000      0.000000   \n",
       "max       75.000000      8.000000      7.000000      8.000000      8.000000   \n",
       "\n",
       "                  ...                  BILL_AMT4      BILL_AMT5  \\\n",
       "count             ...               18000.000000   18000.000000   \n",
       "mean              ...               43404.986889   40522.449111   \n",
       "std               ...               64540.116137   60984.582526   \n",
       "min               ...             -170000.000000  -81334.000000   \n",
       "25%               ...                2301.000000    1744.500000   \n",
       "50%               ...               19037.000000   18201.500000   \n",
       "75%               ...               55167.500000   50646.000000   \n",
       "max               ...              891586.000000  927171.000000   \n",
       "\n",
       "           BILL_AMT6       PAY_AMT1      PAY_AMT2       PAY_AMT3  \\\n",
       "count   18000.000000   18000.000000  1.800000e+04   18000.000000   \n",
       "mean    39059.408833    5654.767222  6.046226e+03    5164.765556   \n",
       "std     59565.529154   17316.636450  2.622850e+04   18060.466764   \n",
       "min   -209051.000000       0.000000  0.000000e+00       0.000000   \n",
       "25%      1284.750000     980.000000  9.000000e+02     390.000000   \n",
       "50%     17164.000000    2101.000000  2.023500e+03    1800.000000   \n",
       "75%     49502.250000    5022.250000  5.000000e+03    4598.500000   \n",
       "max    961664.000000  873552.000000  1.684259e+06  896040.000000   \n",
       "\n",
       "            PAY_AMT4       PAY_AMT5       PAY_AMT6  default payment next month  \n",
       "count   18000.000000   18000.000000   18000.000000                18000.000000  \n",
       "mean     4916.151889    4861.909278    5215.464222                    0.221833  \n",
       "std     16101.909112   16021.170231   17761.720451                    0.415491  \n",
       "min         0.000000       0.000000       0.000000                    0.000000  \n",
       "25%       293.000000     286.000000     150.000000                    0.000000  \n",
       "50%      1500.000000    1512.000000    1500.000000                    0.000000  \n",
       "75%      4044.750000    4086.500000    4000.000000                    0.000000  \n",
       "max    621000.000000  426529.000000  527143.000000                    1.000000  \n",
       "\n",
       "[8 rows x 25 columns]"
      ]
     },
     "execution_count": 6,
     "metadata": {},
     "output_type": "execute_result"
    }
   ],
   "source": [
    "train.describe()"
   ]
  },
  {
   "cell_type": "markdown",
   "metadata": {},
   "source": [
    "This table gives a quick overview of the mean and quartiles of each variable. 22% of the people defaulted payment the next month. In order to determine which variable to examine more closely, I will look at its correlation with my target variable."
   ]
  },
  {
   "cell_type": "code",
   "execution_count": 7,
   "metadata": {},
   "outputs": [
    {
     "data": {
      "text/plain": [
       "<matplotlib.axes._subplots.AxesSubplot at 0x1a489a0e9e8>"
      ]
     },
     "execution_count": 7,
     "metadata": {},
     "output_type": "execute_result"
    },
    {
     "data": {
      "image/png": "[encoded data removed]",
      "text/plain": [
       "<matplotlib.figure.Figure at 0x1a48f713a20>"
      ]
     },
     "metadata": {},
     "output_type": "display_data"
    }
   ],
   "source": [
    "plt.figure(figsize=(15,12))\n",
    "cor = round(train.corr(),2)\n",
    "sns.heatmap(cor, cmap = sns.color_palette('BuGn'), annot = True)"
   ]
  },
  {
   "cell_type": "markdown",
   "metadata": {},
   "source": [
    "**Observation:**  \n",
    "The variable that seems most correlated with defaulting is PAY_#. It is interesting that the repayment status in September, 2005 seems to be a bigger indicator of defaulting and each month before it (up until April, 2005) becomes slightly less correlated.\n",
    "The LIMIT_BAL or given credit is another variable correlated to default payment. Because given credit is based off of annual income, credit score, and other financial assets, it is not suprising that it is a factor in predicting who is likely to default payment next month.\n",
    "\n",
    "### PAY_0-6"
   ]
  },
  {
   "cell_type": "code",
   "execution_count": 8,
   "metadata": {},
   "outputs": [
    {
     "data": {
      "text/html": [
       "<div>\n",
       "<style scoped>\n",
       "    .dataframe tbody tr th:only-of-type {\n",
       "        vertical-align: middle;\n",
       "    }\n",
       "\n",
       "    .dataframe tbody tr th {\n",
       "        vertical-align: top;\n",
       "    }\n",
       "\n",
       "    .dataframe thead th {\n",
       "        text-align: right;\n",
       "    }\n",
       "</style>\n",
       "<table border=\"1\" class=\"dataframe\">\n",
       "  <thead>\n",
       "    <tr style=\"text-align: right;\">\n",
       "      <th></th>\n",
       "      <th>PAY_0</th>\n",
       "      <th>default payment next month</th>\n",
       "    </tr>\n",
       "  </thead>\n",
       "  <tbody>\n",
       "    <tr>\n",
       "      <th>0</th>\n",
       "      <td>-2</td>\n",
       "      <td>0.132479</td>\n",
       "    </tr>\n",
       "    <tr>\n",
       "      <th>1</th>\n",
       "      <td>-1</td>\n",
       "      <td>0.174240</td>\n",
       "    </tr>\n",
       "    <tr>\n",
       "      <th>2</th>\n",
       "      <td>0</td>\n",
       "      <td>0.127304</td>\n",
       "    </tr>\n",
       "    <tr>\n",
       "      <th>3</th>\n",
       "      <td>1</td>\n",
       "      <td>0.339890</td>\n",
       "    </tr>\n",
       "    <tr>\n",
       "      <th>4</th>\n",
       "      <td>2</td>\n",
       "      <td>0.687817</td>\n",
       "    </tr>\n",
       "    <tr>\n",
       "      <th>5</th>\n",
       "      <td>3</td>\n",
       "      <td>0.755869</td>\n",
       "    </tr>\n",
       "    <tr>\n",
       "      <th>6</th>\n",
       "      <td>4</td>\n",
       "      <td>0.791667</td>\n",
       "    </tr>\n",
       "    <tr>\n",
       "      <th>7</th>\n",
       "      <td>5</td>\n",
       "      <td>0.562500</td>\n",
       "    </tr>\n",
       "    <tr>\n",
       "      <th>8</th>\n",
       "      <td>6</td>\n",
       "      <td>0.625000</td>\n",
       "    </tr>\n",
       "    <tr>\n",
       "      <th>9</th>\n",
       "      <td>7</td>\n",
       "      <td>0.666667</td>\n",
       "    </tr>\n",
       "    <tr>\n",
       "      <th>10</th>\n",
       "      <td>8</td>\n",
       "      <td>0.444444</td>\n",
       "    </tr>\n",
       "  </tbody>\n",
       "</table>\n",
       "</div>"
      ],
      "text/plain": [
       "    PAY_0  default payment next month\n",
       "0      -2                    0.132479\n",
       "1      -1                    0.174240\n",
       "2       0                    0.127304\n",
       "3       1                    0.339890\n",
       "4       2                    0.687817\n",
       "5       3                    0.755869\n",
       "6       4                    0.791667\n",
       "7       5                    0.562500\n",
       "8       6                    0.625000\n",
       "9       7                    0.666667\n",
       "10      8                    0.444444"
      ]
     },
     "execution_count": 8,
     "metadata": {},
     "output_type": "execute_result"
    }
   ],
   "source": [
    "train[['PAY_0', 'default payment next month']].groupby(['PAY_0'], as_index = False).mean()"
   ]
  },
  {
   "cell_type": "markdown",
   "metadata": {},
   "source": [
    "Based on the data description, the measurement scale for repayment status follows that:  \n",
    "\n",
    "-1 = pay duly, or paid properly  \n",
    "1 = payment delay for one month  \n",
    "2 = payment delay for 2 months  \n",
    "...  \n",
    "8 = payment delay for 8 months  \n",
    "9 = payment delay for 9+ months  \n",
    "\n",
    "**Observation:**  \n",
    "It seems like whether repayment was paid duly or delayed is a big indicator of whether or not default payment will occur next month. The other PAY_# features will be looked at to confirm this hypothesis. There are also values -2, -1, and 0, which are not explained in the description. Because it has similar default proportions as -1, I will assume that it indicates repayment was paid duly. It will be relabeled as -1.\n",
    "\n",
    "Let's look at the other PAY_# to see if there are any general insights we can make about this variable."
   ]
  },
  {
   "cell_type": "code",
   "execution_count": 9,
   "metadata": {},
   "outputs": [],
   "source": [
    "# Function to get default payment means \n",
    "def get_pay_mean(PAY_NUM):\n",
    "    temp = train[[PAY_NUM, 'default payment next month']].groupby([PAY_NUM], as_index = True).mean()\n",
    "    pay_mean = temp['default payment next month']\n",
    "    return pay_mean"
   ]
  },
  {
   "cell_type": "code",
   "execution_count": 10,
   "metadata": {
    "scrolled": true
   },
   "outputs": [
    {
     "data": {
      "text/html": [
       "<div>\n",
       "<style scoped>\n",
       "    .dataframe tbody tr th:only-of-type {\n",
       "        vertical-align: middle;\n",
       "    }\n",
       "\n",
       "    .dataframe tbody tr th {\n",
       "        vertical-align: top;\n",
       "    }\n",
       "\n",
       "    .dataframe thead th {\n",
       "        text-align: right;\n",
       "    }\n",
       "</style>\n",
       "<table border=\"1\" class=\"dataframe\">\n",
       "  <thead>\n",
       "    <tr style=\"text-align: right;\">\n",
       "      <th></th>\n",
       "      <th>PAY_0</th>\n",
       "      <th>PAY_2</th>\n",
       "      <th>PAY_3</th>\n",
       "      <th>PAY_4</th>\n",
       "      <th>PAY_5</th>\n",
       "      <th>PAY_6</th>\n",
       "    </tr>\n",
       "  </thead>\n",
       "  <tbody>\n",
       "    <tr>\n",
       "      <th>-2</th>\n",
       "      <td>0.132479</td>\n",
       "      <td>0.186296</td>\n",
       "      <td>0.190377</td>\n",
       "      <td>0.195318</td>\n",
       "      <td>0.198235</td>\n",
       "      <td>0.203291</td>\n",
       "    </tr>\n",
       "    <tr>\n",
       "      <th>-1</th>\n",
       "      <td>0.174240</td>\n",
       "      <td>0.160410</td>\n",
       "      <td>0.153761</td>\n",
       "      <td>0.156619</td>\n",
       "      <td>0.164264</td>\n",
       "      <td>0.168424</td>\n",
       "    </tr>\n",
       "    <tr>\n",
       "      <th>0</th>\n",
       "      <td>0.127304</td>\n",
       "      <td>0.157391</td>\n",
       "      <td>0.173132</td>\n",
       "      <td>0.182947</td>\n",
       "      <td>0.189799</td>\n",
       "      <td>0.190050</td>\n",
       "    </tr>\n",
       "    <tr>\n",
       "      <th>1</th>\n",
       "      <td>0.339890</td>\n",
       "      <td>0.285714</td>\n",
       "      <td>0.000000</td>\n",
       "      <td>0.000000</td>\n",
       "      <td>NaN</td>\n",
       "      <td>NaN</td>\n",
       "    </tr>\n",
       "    <tr>\n",
       "      <th>2</th>\n",
       "      <td>0.687817</td>\n",
       "      <td>0.561367</td>\n",
       "      <td>0.530630</td>\n",
       "      <td>0.531960</td>\n",
       "      <td>0.540712</td>\n",
       "      <td>0.502413</td>\n",
       "    </tr>\n",
       "    <tr>\n",
       "      <th>3</th>\n",
       "      <td>0.755869</td>\n",
       "      <td>0.607735</td>\n",
       "      <td>0.574468</td>\n",
       "      <td>0.610169</td>\n",
       "      <td>0.621053</td>\n",
       "      <td>0.633028</td>\n",
       "    </tr>\n",
       "    <tr>\n",
       "      <th>4</th>\n",
       "      <td>0.791667</td>\n",
       "      <td>0.562500</td>\n",
       "      <td>0.592593</td>\n",
       "      <td>0.710526</td>\n",
       "      <td>0.590909</td>\n",
       "      <td>0.741935</td>\n",
       "    </tr>\n",
       "    <tr>\n",
       "      <th>5</th>\n",
       "      <td>0.562500</td>\n",
       "      <td>0.666667</td>\n",
       "      <td>0.545455</td>\n",
       "      <td>0.437500</td>\n",
       "      <td>0.727273</td>\n",
       "      <td>0.555556</td>\n",
       "    </tr>\n",
       "    <tr>\n",
       "      <th>6</th>\n",
       "      <td>0.625000</td>\n",
       "      <td>0.714286</td>\n",
       "      <td>0.444444</td>\n",
       "      <td>0.500000</td>\n",
       "      <td>1.000000</td>\n",
       "      <td>0.692308</td>\n",
       "    </tr>\n",
       "    <tr>\n",
       "      <th>7</th>\n",
       "      <td>0.666667</td>\n",
       "      <td>0.444444</td>\n",
       "      <td>0.769231</td>\n",
       "      <td>0.870968</td>\n",
       "      <td>0.843750</td>\n",
       "      <td>0.833333</td>\n",
       "    </tr>\n",
       "    <tr>\n",
       "      <th>8</th>\n",
       "      <td>0.444444</td>\n",
       "      <td>NaN</td>\n",
       "      <td>1.000000</td>\n",
       "      <td>0.000000</td>\n",
       "      <td>NaN</td>\n",
       "      <td>1.000000</td>\n",
       "    </tr>\n",
       "  </tbody>\n",
       "</table>\n",
       "</div>"
      ],
      "text/plain": [
       "       PAY_0     PAY_2     PAY_3     PAY_4     PAY_5     PAY_6\n",
       "-2  0.132479  0.186296  0.190377  0.195318  0.198235  0.203291\n",
       "-1  0.174240  0.160410  0.153761  0.156619  0.164264  0.168424\n",
       " 0  0.127304  0.157391  0.173132  0.182947  0.189799  0.190050\n",
       " 1  0.339890  0.285714  0.000000  0.000000       NaN       NaN\n",
       " 2  0.687817  0.561367  0.530630  0.531960  0.540712  0.502413\n",
       " 3  0.755869  0.607735  0.574468  0.610169  0.621053  0.633028\n",
       " 4  0.791667  0.562500  0.592593  0.710526  0.590909  0.741935\n",
       " 5  0.562500  0.666667  0.545455  0.437500  0.727273  0.555556\n",
       " 6  0.625000  0.714286  0.444444  0.500000  1.000000  0.692308\n",
       " 7  0.666667  0.444444  0.769231  0.870968  0.843750  0.833333\n",
       " 8  0.444444       NaN  1.000000  0.000000       NaN  1.000000"
      ]
     },
     "execution_count": 10,
     "metadata": {},
     "output_type": "execute_result"
    }
   ],
   "source": [
    "pay_means = {}\n",
    "for i in ['PAY_0', 'PAY_2', 'PAY_3', 'PAY_4', 'PAY_5', 'PAY_6']:\n",
    "    pay_means[i] = get_pay_mean(i)\n",
    "pay_means_results = pd.DataFrame(pay_means)\n",
    "#pay_means_results.reset_index(level=0, inplace=True)\n",
    "pay_means_results"
   ]
  },
  {
   "cell_type": "code",
   "execution_count": 11,
   "metadata": {},
   "outputs": [
    {
     "data": {
      "text/plain": [
       "<matplotlib.axes._subplots.AxesSubplot at 0x1a4908f4fd0>"
      ]
     },
     "execution_count": 11,
     "metadata": {},
     "output_type": "execute_result"
    },
    {
     "data": {
      "image/png": "[encoded data removed]",
      "text/plain": [
       "<matplotlib.figure.Figure at 0x1a4908f49b0>"
      ]
     },
     "metadata": {},
     "output_type": "display_data"
    }
   ],
   "source": [
    "pay_means_results.plot(kind = 'bar', title = 'PAY_# Mean Results', figsize=(15, 7), legend=True, rot = 0, colormap = 'Set2')"
   ]
  },
  {
   "cell_type": "markdown",
   "metadata": {},
   "source": [
    "**Obseration:**  \n",
    "By plotting all the different repayment months together, I hoped to see if there was any general patterns I could make about delayed payments. Those who paid duly (-2, -1, 0) had the lowest chance of default payment next month (~15-20%) Those who paid late then do have a higher chance of default payment next month. There doesn't seem like a pattern in how many months delayed from the repayment month except for the fact that default payment next month rate is usually above 50%.\n",
    "\n",
    "### Limit Balance\n",
    "\n",
    "LIMIT_BAL corresponds to the given credit of both the card holder and its family members. Normally, those with good credit score, higher income, and more assets are granted a higher credit card limit."
   ]
  },
  {
   "cell_type": "code",
   "execution_count": 12,
   "metadata": {},
   "outputs": [
    {
     "data": {
      "text/plain": [
       "Text(0.5,1.05,'Limit Balance and Default Rate Distribution')"
      ]
     },
     "execution_count": 12,
     "metadata": {},
     "output_type": "execute_result"
    },
    {
     "data": {
      "image/png": "[encoded data removed]",
      "text/plain": [
       "<matplotlib.figure.Figure at 0x1a48fb5c898>"
      ]
     },
     "metadata": {},
     "output_type": "display_data"
    }
   ],
   "source": [
    "# Limit Balance and Default Rate Distribution\n",
    "age_survival_dist = sns.FacetGrid(train, hue = 'default payment next month', aspect = 2.5, size = 5, palette = 'BuGn')\n",
    "age_survival_dist.map(sns.kdeplot, 'LIMIT_BAL', shade = True)\n",
    "age_survival_dist.add_legend()\n",
    "plt.suptitle('Limit Balance and Default Rate Distribution', fontsize = 20, y = 1.05)"
   ]
  },
  {
   "cell_type": "markdown",
   "metadata": {},
   "source": [
    "**Observations:**  \n",
    "It seems like those with lower credit limits are more likely to default, whereas those with higher credit limits are less likely to default."
   ]
  },
  {
   "cell_type": "markdown",
   "metadata": {},
   "source": [
    "## What demographic variables indicate high risk borrowers?\n",
    "\n",
    "High risk borrowers are card credit holders who will default payment next month. The demographic variables we will look at in this dataset include age, sex, marriage, and education.\n",
    "\n",
    "### Age\n",
    "\n",
    "Based on the table above, 50% of credit card holders fall somewhere between 28-42, with the average at 35. The oldest person with a credit card in the train set is 75 whereas the youngest person is 21."
   ]
  },
  {
   "cell_type": "code",
   "execution_count": 13,
   "metadata": {},
   "outputs": [
    {
     "data": {
      "text/plain": [
       "Text(0.5,1.05,'Age and Default Rate Distribution')"
      ]
     },
     "execution_count": 13,
     "metadata": {},
     "output_type": "execute_result"
    },
    {
     "data": {
      "image/png": "[encoded data removed]",
      "text/plain": [
       "<matplotlib.figure.Figure at 0x1a48fbfe550>"
      ]
     },
     "metadata": {},
     "output_type": "display_data"
    }
   ],
   "source": [
    "# Age and Default Rate Distribution\n",
    "age_survival_dist = sns.FacetGrid(train, hue = 'default payment next month', aspect = 2.5, size = 5, palette = 'BuGn')\n",
    "age_survival_dist.map(sns.kdeplot, 'AGE', shade = True)\n",
    "age_survival_dist.add_legend()\n",
    "plt.suptitle('Age and Default Rate Distribution', fontsize = 20, y = 1.05)"
   ]
  },
  {
   "cell_type": "markdown",
   "metadata": {},
   "source": [
    "**Observation:**  \n",
    "Based on the graph, the distributions are quite similar and it doesn't seem like age plays a large role in whether or not the card holder will default payment next month. However, those who are in their 25-40 have a slightly lower chance of default.\n",
    "\n",
    "### Sex\n",
    "\n",
    "1 stands for male and 2 stands for female."
   ]
  },
  {
   "cell_type": "code",
   "execution_count": 14,
   "metadata": {},
   "outputs": [
    {
     "data": {
      "text/html": [
       "<div>\n",
       "<style scoped>\n",
       "    .dataframe tbody tr th:only-of-type {\n",
       "        vertical-align: middle;\n",
       "    }\n",
       "\n",
       "    .dataframe tbody tr th {\n",
       "        vertical-align: top;\n",
       "    }\n",
       "\n",
       "    .dataframe thead th {\n",
       "        text-align: right;\n",
       "    }\n",
       "</style>\n",
       "<table border=\"1\" class=\"dataframe\">\n",
       "  <thead>\n",
       "    <tr style=\"text-align: right;\">\n",
       "      <th></th>\n",
       "      <th>SEX</th>\n",
       "      <th>default payment next month</th>\n",
       "    </tr>\n",
       "  </thead>\n",
       "  <tbody>\n",
       "    <tr>\n",
       "      <th>0</th>\n",
       "      <td>1</td>\n",
       "      <td>0.242739</td>\n",
       "    </tr>\n",
       "    <tr>\n",
       "      <th>1</th>\n",
       "      <td>2</td>\n",
       "      <td>0.208130</td>\n",
       "    </tr>\n",
       "  </tbody>\n",
       "</table>\n",
       "</div>"
      ],
      "text/plain": [
       "   SEX  default payment next month\n",
       "0    1                    0.242739\n",
       "1    2                    0.208130"
      ]
     },
     "execution_count": 14,
     "metadata": {},
     "output_type": "execute_result"
    }
   ],
   "source": [
    "train[['SEX', 'default payment next month']].groupby(['SEX'], as_index = False).mean()"
   ]
  },
  {
   "cell_type": "markdown",
   "metadata": {},
   "source": [
    "**Obseration:**  \n",
    "The difference between being male and female have a very small affect on whether or not the client will default payment next month. There is a slightly higher chance if you are male.\n",
    "\n",
    "### Marriage\n",
    "\n",
    "Marriage is classified into 1 = married, 2 = single and 3 = other."
   ]
  },
  {
   "cell_type": "code",
   "execution_count": 15,
   "metadata": {},
   "outputs": [
    {
     "data": {
      "text/html": [
       "<div>\n",
       "<style scoped>\n",
       "    .dataframe tbody tr th:only-of-type {\n",
       "        vertical-align: middle;\n",
       "    }\n",
       "\n",
       "    .dataframe tbody tr th {\n",
       "        vertical-align: top;\n",
       "    }\n",
       "\n",
       "    .dataframe thead th {\n",
       "        text-align: right;\n",
       "    }\n",
       "</style>\n",
       "<table border=\"1\" class=\"dataframe\">\n",
       "  <thead>\n",
       "    <tr style=\"text-align: right;\">\n",
       "      <th></th>\n",
       "      <th>MARRIAGE</th>\n",
       "      <th>default payment next month</th>\n",
       "    </tr>\n",
       "  </thead>\n",
       "  <tbody>\n",
       "    <tr>\n",
       "      <th>0</th>\n",
       "      <td>0</td>\n",
       "      <td>0.100000</td>\n",
       "    </tr>\n",
       "    <tr>\n",
       "      <th>1</th>\n",
       "      <td>1</td>\n",
       "      <td>0.233204</td>\n",
       "    </tr>\n",
       "    <tr>\n",
       "      <th>2</th>\n",
       "      <td>2</td>\n",
       "      <td>0.211677</td>\n",
       "    </tr>\n",
       "    <tr>\n",
       "      <th>3</th>\n",
       "      <td>3</td>\n",
       "      <td>0.258883</td>\n",
       "    </tr>\n",
       "  </tbody>\n",
       "</table>\n",
       "</div>"
      ],
      "text/plain": [
       "   MARRIAGE  default payment next month\n",
       "0         0                    0.100000\n",
       "1         1                    0.233204\n",
       "2         2                    0.211677\n",
       "3         3                    0.258883"
      ]
     },
     "execution_count": 15,
     "metadata": {},
     "output_type": "execute_result"
    }
   ],
   "source": [
    "train[['MARRIAGE', 'default payment next month']].groupby(['MARRIAGE'], as_index = False).mean()"
   ]
  },
  {
   "cell_type": "markdown",
   "metadata": {},
   "source": [
    "**Observation:**  \n",
    "I am not quite sure what 0 means in this case but there are only 30 values where marriage = 0 and I will classify it as other. Those who are single have a slightly lower chance of defaulting than married or other.\n",
    "\n",
    "### Education\n",
    "\n",
    "Education is classified as 1 = graduate school, 2 = university, 3 = high school and 4 = other."
   ]
  },
  {
   "cell_type": "code",
   "execution_count": 16,
   "metadata": {},
   "outputs": [
    {
     "data": {
      "text/html": [
       "<div>\n",
       "<style scoped>\n",
       "    .dataframe tbody tr th:only-of-type {\n",
       "        vertical-align: middle;\n",
       "    }\n",
       "\n",
       "    .dataframe tbody tr th {\n",
       "        vertical-align: top;\n",
       "    }\n",
       "\n",
       "    .dataframe thead th {\n",
       "        text-align: right;\n",
       "    }\n",
       "</style>\n",
       "<table border=\"1\" class=\"dataframe\">\n",
       "  <thead>\n",
       "    <tr style=\"text-align: right;\">\n",
       "      <th></th>\n",
       "      <th>EDUCATION</th>\n",
       "      <th>default payment next month</th>\n",
       "    </tr>\n",
       "  </thead>\n",
       "  <tbody>\n",
       "    <tr>\n",
       "      <th>0</th>\n",
       "      <td>0</td>\n",
       "      <td>0.000000</td>\n",
       "    </tr>\n",
       "    <tr>\n",
       "      <th>1</th>\n",
       "      <td>1</td>\n",
       "      <td>0.193804</td>\n",
       "    </tr>\n",
       "    <tr>\n",
       "      <th>2</th>\n",
       "      <td>2</td>\n",
       "      <td>0.238305</td>\n",
       "    </tr>\n",
       "    <tr>\n",
       "      <th>3</th>\n",
       "      <td>3</td>\n",
       "      <td>0.250600</td>\n",
       "    </tr>\n",
       "    <tr>\n",
       "      <th>4</th>\n",
       "      <td>4</td>\n",
       "      <td>0.095890</td>\n",
       "    </tr>\n",
       "    <tr>\n",
       "      <th>5</th>\n",
       "      <td>5</td>\n",
       "      <td>0.053571</td>\n",
       "    </tr>\n",
       "    <tr>\n",
       "      <th>6</th>\n",
       "      <td>6</td>\n",
       "      <td>0.125000</td>\n",
       "    </tr>\n",
       "  </tbody>\n",
       "</table>\n",
       "</div>"
      ],
      "text/plain": [
       "   EDUCATION  default payment next month\n",
       "0          0                    0.000000\n",
       "1          1                    0.193804\n",
       "2          2                    0.238305\n",
       "3          3                    0.250600\n",
       "4          4                    0.095890\n",
       "5          5                    0.053571\n",
       "6          6                    0.125000"
      ]
     },
     "execution_count": 16,
     "metadata": {},
     "output_type": "execute_result"
    }
   ],
   "source": [
    "train[['EDUCATION', 'default payment next month']].groupby(['EDUCATION'], as_index = False).mean()"
   ]
  },
  {
   "cell_type": "markdown",
   "metadata": {},
   "source": [
    "**Observation:**  \n",
    "Once again, this variable has several values not mentioned in the data description. Therefore, I will also classify it as other. However, it does seem that those with higher education have a lower chance of defaulting. Those in order have a lower chance of default."
   ]
  },
  {
   "cell_type": "markdown",
   "metadata": {},
   "source": [
    "<a id='Data Preprocessing'></a>\n",
    "\n",
    "# Data Preprocessing\n",
    "\n",
    "A lot of the data had values not in the data description and was mislabeled. I also tried normalizing this data set, but it didn't change many of the values, so I have decided to leave it as is.\n",
    "\n",
    "## Cleaning the Data"
   ]
  },
  {
   "cell_type": "code",
   "execution_count": 17,
   "metadata": {},
   "outputs": [],
   "source": [
    "credit_card = train.append(test, ignore_index = True)\n",
    "\n",
    "credit_card['MARRIAGE'].replace(0, 3, inplace = True)\n",
    "credit_card['EDUCATION'].replace([0, 5, 6], 4, inplace = True)"
   ]
  },
  {
   "cell_type": "markdown",
   "metadata": {},
   "source": [
    "## Drop Irrelevant Variables"
   ]
  },
  {
   "cell_type": "code",
   "execution_count": 18,
   "metadata": {},
   "outputs": [
    {
     "data": {
      "text/plain": [
       "(30000, 24)"
      ]
     },
     "execution_count": 18,
     "metadata": {},
     "output_type": "execute_result"
    }
   ],
   "source": [
    "credit_card = credit_card.drop(['ID'], axis = 1)\n",
    "credit_card.shape"
   ]
  },
  {
   "cell_type": "code",
   "execution_count": 19,
   "metadata": {},
   "outputs": [],
   "source": [
    "train_cleaned = credit_card[0:18000]\n",
    "test_cleaned = credit_card[18000:30000]"
   ]
  },
  {
   "cell_type": "markdown",
   "metadata": {},
   "source": [
    "<a id='Modeling'></a>\n",
    "\n",
    "# Modeling\n",
    "\n",
    "## How do you predict if a cardholder is likely to default on their credit card?\n",
    "\n",
    "The best way to predict if a cardholder is likely to default on their credit card is to test different algorithms. The algorithms I will be using to test which will perform the best on determining credit card default is:\n",
    "- Logistic Regression\n",
    "- KNN\n",
    "- Naive Bayesian Classifier\n",
    "- Artifical Neural Networks\n",
    "- Decision Tree\n",
    "- Random Forest\n",
    "\n",
    "The best model should also be able to predict the test set with at least 80% accuracy."
   ]
  },
  {
   "cell_type": "code",
   "execution_count": 20,
   "metadata": {},
   "outputs": [],
   "source": [
    "from sklearn.model_selection import train_test_split\n",
    "from sklearn.linear_model import LogisticRegression\n",
    "from sklearn.ensemble import RandomForestClassifier\n",
    "from sklearn.neighbors import KNeighborsClassifier\n",
    "from sklearn.naive_bayes import GaussianNB\n",
    "from sklearn.tree import DecisionTreeClassifier\n",
    "from sklearn.neural_network import MLPClassifier\n",
    "from tqdm import tqdm\n",
    "from sklearn.metrics import make_scorer, accuracy_score\n",
    "from sklearn.model_selection import GridSearchCV"
   ]
  },
  {
   "cell_type": "code",
   "execution_count": 21,
   "metadata": {},
   "outputs": [],
   "source": [
    "# Train Test Split\n",
    "features = train_cleaned.drop('default payment next month', axis=1)\n",
    "target = train_cleaned['default payment next month']\n",
    "X_train, X_test, y_train, y_test = train_test_split(features, target, test_size=0.4, random_state=100)"
   ]
  },
  {
   "cell_type": "markdown",
   "metadata": {},
   "source": [
    "### Logistic Regression"
   ]
  },
  {
   "cell_type": "code",
   "execution_count": 22,
   "metadata": {},
   "outputs": [
    {
     "data": {
      "text/plain": [
       "LogisticRegression(C=10, class_weight=None, dual=False, fit_intercept=True,\n",
       "          intercept_scaling=1, max_iter=100, multi_class='ovr', n_jobs=1,\n",
       "          penalty='l1', random_state=None, solver='liblinear', tol=0.0001,\n",
       "          verbose=0, warm_start=False)"
      ]
     },
     "execution_count": 22,
     "metadata": {},
     "output_type": "execute_result"
    }
   ],
   "source": [
    "logr = LogisticRegression()\n",
    "logr_parameters = {'penalty': ['l1', 'l2'], \n",
    "                   'C' : [10, 20, 30, 40, 50, 60]\n",
    "                  }\n",
    "\n",
    "acc_scorer = make_scorer(accuracy_score)\n",
    "\n",
    "# Run the 10-fold grid search\n",
    "grid_obj = GridSearchCV(logr, logr_parameters, cv = 10, scoring = acc_scorer)\n",
    "grid_obj = grid_obj.fit(X_train, y_train)\n",
    "\n",
    "# Set the algorithm to the best combination of parameters\n",
    "logr = grid_obj.best_estimator_\n",
    "\n",
    "# Fit the best algorithm to the data. \n",
    "logr.fit(X_train, y_train)"
   ]
  },
  {
   "cell_type": "code",
   "execution_count": 23,
   "metadata": {},
   "outputs": [
    {
     "data": {
      "text/plain": [
       "81.09"
      ]
     },
     "execution_count": 23,
     "metadata": {},
     "output_type": "execute_result"
    }
   ],
   "source": [
    "logr.predict(X_test)\n",
    "round(logr.score(X_train, y_train) * 100, 2)"
   ]
  },
  {
   "cell_type": "markdown",
   "metadata": {},
   "source": [
    "### KNN"
   ]
  },
  {
   "cell_type": "code",
   "execution_count": 24,
   "metadata": {},
   "outputs": [
    {
     "data": {
      "text/plain": [
       "KNeighborsClassifier(algorithm='auto', leaf_size=5, metric='minkowski',\n",
       "           metric_params=None, n_jobs=1, n_neighbors=8, p=2,\n",
       "           weights='uniform')"
      ]
     },
     "execution_count": 24,
     "metadata": {},
     "output_type": "execute_result"
    }
   ],
   "source": [
    "knn = KNeighborsClassifier()\n",
    "knn_parameters = {'n_neighbors': range(6,9),\n",
    "                  'leaf_size': [3, 5, 7, 10]\n",
    "                 }\n",
    "\n",
    "acc_scorer = make_scorer(accuracy_score)\n",
    "\n",
    "# Run the 10-fold grid search\n",
    "grid_obj = GridSearchCV(knn, knn_parameters, cv = 10, scoring = acc_scorer)\n",
    "grid_obj = grid_obj.fit(X_train, y_train)\n",
    "\n",
    "# Set the algorithm to the best combination of parameters\n",
    "knn = grid_obj.best_estimator_\n",
    "\n",
    "# Fit the best algorithm to the data. \n",
    "knn.fit(X_train, y_train)"
   ]
  },
  {
   "cell_type": "code",
   "execution_count": 25,
   "metadata": {},
   "outputs": [
    {
     "data": {
      "text/plain": [
       "79.72"
      ]
     },
     "execution_count": 25,
     "metadata": {},
     "output_type": "execute_result"
    }
   ],
   "source": [
    "knn.predict(X_test)\n",
    "round(knn.score(X_train, y_train) * 100, 2)"
   ]
  },
  {
   "cell_type": "markdown",
   "metadata": {},
   "source": [
    "### Naive Bayesian Classifier"
   ]
  },
  {
   "cell_type": "code",
   "execution_count": 26,
   "metadata": {},
   "outputs": [
    {
     "data": {
      "text/plain": [
       "GaussianNB(priors=None)"
      ]
     },
     "execution_count": 26,
     "metadata": {},
     "output_type": "execute_result"
    }
   ],
   "source": [
    "nbc = GaussianNB()\n",
    "nbc_parameters = {}\n",
    "\n",
    "acc_scorer = make_scorer(accuracy_score)\n",
    "\n",
    "# Run the 10-fold grid search\n",
    "grid_obj = GridSearchCV(nbc, nbc_parameters, cv = 10, scoring = acc_scorer)\n",
    "grid_obj = grid_obj.fit(X_train, y_train)\n",
    "\n",
    "# Set the algorithm to the best combination of parameters\n",
    "nbc = grid_obj.best_estimator_\n",
    "\n",
    "# Fit the best algorithm to the data. \n",
    "nbc.fit(X_train, y_train)"
   ]
  },
  {
   "cell_type": "code",
   "execution_count": 27,
   "metadata": {},
   "outputs": [
    {
     "data": {
      "text/plain": [
       "38.49"
      ]
     },
     "execution_count": 27,
     "metadata": {},
     "output_type": "execute_result"
    }
   ],
   "source": [
    "nbc.predict(X_test)\n",
    "round(nbc.score(X_train, y_train) * 100, 2)"
   ]
  },
  {
   "cell_type": "markdown",
   "metadata": {},
   "source": [
    "### Artifical Neural Networks"
   ]
  },
  {
   "cell_type": "code",
   "execution_count": 28,
   "metadata": {},
   "outputs": [
    {
     "data": {
      "text/plain": [
       "MLPClassifier(activation='relu', alpha=0.01, batch_size='auto', beta_1=0.9,\n",
       "       beta_2=0.999, early_stopping=False, epsilon=1e-08,\n",
       "       hidden_layer_sizes=(100, 2), learning_rate='constant',\n",
       "       learning_rate_init=0.001, max_iter=200, momentum=0.9,\n",
       "       nesterovs_momentum=True, power_t=0.5, random_state=None,\n",
       "       shuffle=True, solver='adam', tol=0.0001, validation_fraction=0.1,\n",
       "       verbose=False, warm_start=False)"
      ]
     },
     "execution_count": 28,
     "metadata": {},
     "output_type": "execute_result"
    }
   ],
   "source": [
    "ann = MLPClassifier()\n",
    "ann_parameters = {'hidden_layer_sizes': [(100,1), (100,2), (100,3)],\n",
    "                  'alpha': [.0001, .001, .01, .1, 1],\n",
    "                 }\n",
    "\n",
    "acc_scorer = make_scorer(accuracy_score)\n",
    "\n",
    "# Run the 10-fold grid search\n",
    "grid_obj = GridSearchCV(ann, ann_parameters, cv = 10, scoring = acc_scorer)\n",
    "grid_obj = grid_obj.fit(X_train, y_train)\n",
    "\n",
    "# Set the algorithm to the best combination of parameters\n",
    "ann = grid_obj.best_estimator_\n",
    "\n",
    "# Fit the best algorithm to the data. \n",
    "ann.fit(X_train, y_train)"
   ]
  },
  {
   "cell_type": "code",
   "execution_count": 29,
   "metadata": {},
   "outputs": [
    {
     "data": {
      "text/plain": [
       "77.65"
      ]
     },
     "execution_count": 29,
     "metadata": {},
     "output_type": "execute_result"
    }
   ],
   "source": [
    "ann.predict(X_test)\n",
    "round(ann.score(X_train, y_train) * 100, 2)"
   ]
  },
  {
   "cell_type": "markdown",
   "metadata": {},
   "source": [
    "### Decision Trees"
   ]
  },
  {
   "cell_type": "code",
   "execution_count": 30,
   "metadata": {},
   "outputs": [
    {
     "data": {
      "text/plain": [
       "DecisionTreeClassifier(class_weight=None, criterion='gini', max_depth=2,\n",
       "            max_features=15, max_leaf_nodes=None,\n",
       "            min_impurity_decrease=0.0, min_impurity_split=None,\n",
       "            min_samples_leaf=3, min_samples_split=2,\n",
       "            min_weight_fraction_leaf=0.0, presort=False, random_state=None,\n",
       "            splitter='best')"
      ]
     },
     "execution_count": 30,
     "metadata": {},
     "output_type": "execute_result"
    }
   ],
   "source": [
    "dt = DecisionTreeClassifier()\n",
    "dt_parameters = {'max_depth': [2,6,10], \n",
    "                 'min_samples_split': range(2,5),\n",
    "                 'min_samples_leaf': range(1,5),\n",
    "                 'max_features': [5, 10, 15]   \n",
    "                }\n",
    "\n",
    "acc_scorer = make_scorer(accuracy_score)\n",
    "\n",
    "# Run the 10-fold grid search\n",
    "grid_obj = GridSearchCV(dt, dt_parameters, cv = 10, scoring = acc_scorer)\n",
    "grid_obj = grid_obj.fit(X_train, y_train)\n",
    "\n",
    "# Set the algorithm to the best combination of parameters\n",
    "dt = grid_obj.best_estimator_\n",
    "\n",
    "# Fit the best algorithm to the data. \n",
    "dt.fit(X_train, y_train)"
   ]
  },
  {
   "cell_type": "code",
   "execution_count": 31,
   "metadata": {},
   "outputs": [
    {
     "data": {
      "text/plain": [
       "82.06"
      ]
     },
     "execution_count": 31,
     "metadata": {},
     "output_type": "execute_result"
    }
   ],
   "source": [
    "dt.predict(X_test)\n",
    "round(dt.score(X_train, y_train) * 100, 2)"
   ]
  },
  {
   "cell_type": "markdown",
   "metadata": {},
   "source": [
    "### Random Forest"
   ]
  },
  {
   "cell_type": "code",
   "execution_count": 32,
   "metadata": {
    "scrolled": true
   },
   "outputs": [
    {
     "data": {
      "text/plain": [
       "RandomForestClassifier(bootstrap=True, class_weight=None, criterion='gini',\n",
       "            max_depth=6, max_features='auto', max_leaf_nodes=None,\n",
       "            min_impurity_decrease=0.0, min_impurity_split=None,\n",
       "            min_samples_leaf=4, min_samples_split=4,\n",
       "            min_weight_fraction_leaf=0.0, n_estimators=7, n_jobs=1,\n",
       "            oob_score=False, random_state=None, verbose=0,\n",
       "            warm_start=False)"
      ]
     },
     "execution_count": 32,
     "metadata": {},
     "output_type": "execute_result"
    }
   ],
   "source": [
    "rfc = RandomForestClassifier()\n",
    "rfc_parameters = {'max_depth': [2,6,10], \n",
    "                  'min_samples_split': range(2,5),\n",
    "                  'min_samples_leaf': range(1,5),\n",
    "                  'n_estimators': range(5,10)\n",
    "                 }\n",
    "\n",
    "acc_scorer = make_scorer(accuracy_score)\n",
    "\n",
    "# Run the 10-fold grid search\n",
    "grid_obj = GridSearchCV(rfc, rfc_parameters, cv = 10, scoring=acc_scorer)\n",
    "grid_obj = grid_obj.fit(X_train, y_train)\n",
    "\n",
    "# Set the algorithm to the best combination of parameters\n",
    "rfc = grid_obj.best_estimator_\n",
    "\n",
    "# Fit the best algorithm to the data. \n",
    "rfc.fit(X_train, y_train)"
   ]
  },
  {
   "cell_type": "code",
   "execution_count": 33,
   "metadata": {},
   "outputs": [
    {
     "data": {
      "text/plain": [
       "82.68"
      ]
     },
     "execution_count": 33,
     "metadata": {},
     "output_type": "execute_result"
    }
   ],
   "source": [
    "rfc.predict(X_test)\n",
    "round(rfc.score(X_train, y_train) * 100, 2)"
   ]
  },
  {
   "cell_type": "markdown",
   "metadata": {},
   "source": [
    "## Results\n",
    "\n",
    "Based on my results, Random Forest was the best performer. Let's see how it performed with the actual test set."
   ]
  },
  {
   "cell_type": "code",
   "execution_count": 39,
   "metadata": {},
   "outputs": [
    {
     "data": {
      "text/plain": [
       "0.8104166666666667"
      ]
     },
     "execution_count": 39,
     "metadata": {},
     "output_type": "execute_result"
    }
   ],
   "source": [
    "guess = rfc.predict(test_cleaned.drop(['default payment next month'], axis = 1)).astype(int)\n",
    "sum(guess == test_solution)/guess.size"
   ]
  },
  {
   "cell_type": "markdown",
   "metadata": {},
   "source": [
    "<a id='XGBoost'></a>\n",
    "\n",
    "# 5. XGBoost\n",
    "\n",
    "This extremely popular algorithm has dominated many Kaggle competitions and I wanted to test it on this dataset."
   ]
  },
  {
   "cell_type": "code",
   "execution_count": 34,
   "metadata": {},
   "outputs": [],
   "source": [
    "import xgboost as xgb\n",
    "\n",
    "import warnings\n",
    "warnings.filterwarnings('ignore')"
   ]
  },
  {
   "cell_type": "code",
   "execution_count": 35,
   "metadata": {},
   "outputs": [
    {
     "data": {
      "text/plain": [
       "XGBClassifier(base_score=0.5, booster='gbtree', colsample_bylevel=1,\n",
       "       colsample_bytree=1, gamma=0, learning_rate=0.2, max_delta_step=0,\n",
       "       max_depth=7, min_child_weight=1, missing=None, n_estimators=200,\n",
       "       n_jobs=1, nthread=None, objective='binary:logistic', random_state=0,\n",
       "       reg_alpha=0, reg_lambda=1, scale_pos_weight=1, seed=None,\n",
       "       silent=True, subsample=1)"
      ]
     },
     "execution_count": 35,
     "metadata": {},
     "output_type": "execute_result"
    }
   ],
   "source": [
    "clf = xgb.XGBClassifier(max_depth=7, learning_rate=0.2, n_estimators=200)\n",
    "clf.fit(X_train, y_train)"
   ]
  },
  {
   "cell_type": "code",
   "execution_count": 36,
   "metadata": {},
   "outputs": [
    {
     "data": {
      "text/plain": [
       "97.91"
      ]
     },
     "execution_count": 36,
     "metadata": {},
     "output_type": "execute_result"
    }
   ],
   "source": [
    "clf.predict(X_test)\n",
    "round(clf.score(X_train, y_train) * 100, 2)"
   ]
  },
  {
   "cell_type": "code",
   "execution_count": 37,
   "metadata": {
    "scrolled": true
   },
   "outputs": [
    {
     "data": {
      "text/plain": [
       "0.8088333333333333"
      ]
     },
     "execution_count": 37,
     "metadata": {},
     "output_type": "execute_result"
    }
   ],
   "source": [
    "# Performance on Real Data Set\n",
    "guess = clf.predict(test_cleaned.drop(['default payment next month'], axis = 1)).astype(int)\n",
    "sum(guess == test_solution)/guess.size"
   ]
  },
  {
   "cell_type": "markdown",
   "metadata": {},
   "source": [
    "<a id='Solution Statement'></a>\n",
    "\n",
    "# 6. Solution Statement\n",
    "\n",
    "Credit card default is a serious issue that needs to be addressed. Based on the dataset, I can make the following conclusions:\n",
    "- The strongest predictors of default payment is history of past payment (particularly from the most recent month) and the amount of given credit, or limit balance. Repayment status in September, 2005 had the strongest correlation to default payment next month, but all other months were correlated with default rates. Those who paid duly were least likely to default (~20%) whereas anyone who had a payment delay (regardless of how many months) had ~50-60% chance of default payment. Second, those with lower limit balance had a higher chance of default payment than people with higher limit balance.\n",
    "- Some demographic populations are more prone to default. Males (~24%) were more likely to default than females (~20%). People with graduate school or other education were less likely to default than those who only studied in university or high school. In fact, those with high school diplomas had a ~25% chance of default. People with relationship status of \"Other\" also had a slightly higher chance of default. Though age didn't play a large role in default, people between ages 25-40 have a higher chance of default; however, this may be due to the fact that most credit card holders fall in that age range.\n",
    "\n",
    "Using those conclusions, I will provide the following recommendations:\n",
    "- Since there weren't any extreme demographic variables that indicated high risk borrowers, every credit card holder should receive information or a quick course on credit card usage before they are granted a card. There could also be additional information targeting the aforementioned population but it isn't necessary.\n",
    "- Instead, monitoring repayment history is more useful. If any card holder fails to pay duly, monitor the holder. They could watch a video about credit card default and be required to learn more information about the issue, since those who delay payment have a higher chance of default. In addition, card holders with low credit limits should also be watched.\n",
    "- The best way to predict if a cardholder is likely to default on their credit card is with Random Forest."
   ]
  }
 ],
 "metadata": {
  "kernelspec": {
   "display_name": "Python 3",
   "language": "python",
   "name": "python3"
  },
  "language_info": {
   "codemirror_mode": {
    "name": "ipython",
    "version": 3
   },
   "file_extension": ".py",
   "mimetype": "text/x-python",
   "name": "python",
   "nbconvert_exporter": "python",
   "pygments_lexer": "ipython3",
   "version": "3.6.4"
  }
 },
 "nbformat": 4,
 "nbformat_minor": 2
}
