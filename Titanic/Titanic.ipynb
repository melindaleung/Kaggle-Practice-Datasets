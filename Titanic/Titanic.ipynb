{
 "cells": [
  {
   "cell_type": "markdown",
   "metadata": {},
   "source": [
    "# Titanic\n",
    "\n",
    "On April 15, 1912, the RMS Titanic collided with an iceberg, killing 1502 out of 2224 passengers and crew members. This is one of the most infamous shipwrecks in history. Lack of lifeboats for passengers and crew was a major problem, and since then, stricter safety regulations have been implemented. \n",
    "\n",
    "**Problem Statement:** Predict who is likely to survive the Titanic sinking.\n",
    "\n",
    "**Dataset Description:** 12 variables (including 1 target variable) and 1309 observations\n",
    "\n",
    "| Variable| Definition| Key |\n",
    "| --- | --- | --- |\n",
    "| Survived | Survival | Survived (1), Died (0) |\n",
    "| Pclass | Ticket Class | Upper (1), Middle (2), Lower (3) |\n",
    "| Name | Passenger's Name | |\n",
    "| Sex | Passenger's Sex | |\n",
    "| Age | Passenger's Age | | \n",
    "| SibSp | # of Siblings/Spouses Aboard | | \n",
    "| Parch | # of Parents/Children Aboard | | \n",
    "| Ticket | Ticket Number | | \n",
    "| Fare | Passenger Fare | | \n",
    "| Cabin | Cabin Number | |\n",
    "| Embarked | Port of Embarkation | Cherbourg (C), Queenstown (Q), Southampton (S) |\n",
    "\n",
    "\n",
    "**Performance Metric:** Accuracy\n",
    "\n",
    "**Personal Goals:**\n",
    "- Learn Python basics\n",
    "- Work with a binary classification problem\n",
    "- Complete first Kaggle Competition\n",
    "\n",
    "**Workflow**\n",
    "1. [EDA](#EDA)\n",
    "2. [Data Preprocessing](#Data Preprocessing)\n",
    "3. [Modeling](#Modeling)\n",
    "4. [Hyperparameter Tuning](#Hyperparameter Tuning)\n",
    "5. [Reflection](#Reflection)\n",
    "\n",
    "<a id='EDA'></a>\n",
    "# 01. Exploratory Data Analysis\n",
    "\n",
    "## Loading the Data"
   ]
  },
  {
   "cell_type": "code",
   "execution_count": 1,
   "metadata": {},
   "outputs": [],
   "source": [
    "import warnings\n",
    "warnings.filterwarnings('ignore')\n",
    "\n",
    "import pandas as pd\n",
    "import numpy as np\n",
    "\n",
    "import seaborn as sns\n",
    "import matplotlib.pyplot as plt\n",
    "%matplotlib inline"
   ]
  },
  {
   "cell_type": "code",
   "execution_count": 2,
   "metadata": {},
   "outputs": [
    {
     "data": {
      "text/html": [
       "<div>\n",
       "<style scoped>\n",
       "    .dataframe tbody tr th:only-of-type {\n",
       "        vertical-align: middle;\n",
       "    }\n",
       "\n",
       "    .dataframe tbody tr th {\n",
       "        vertical-align: top;\n",
       "    }\n",
       "\n",
       "    .dataframe thead th {\n",
       "        text-align: right;\n",
       "    }\n",
       "</style>\n",
       "<table border=\"1\" class=\"dataframe\">\n",
       "  <thead>\n",
       "    <tr style=\"text-align: right;\">\n",
       "      <th></th>\n",
       "      <th>PassengerId</th>\n",
       "      <th>Survived</th>\n",
       "      <th>Pclass</th>\n",
       "      <th>Name</th>\n",
       "      <th>Sex</th>\n",
       "      <th>Age</th>\n",
       "      <th>SibSp</th>\n",
       "      <th>Parch</th>\n",
       "      <th>Ticket</th>\n",
       "      <th>Fare</th>\n",
       "      <th>Cabin</th>\n",
       "      <th>Embarked</th>\n",
       "    </tr>\n",
       "  </thead>\n",
       "  <tbody>\n",
       "    <tr>\n",
       "      <th>0</th>\n",
       "      <td>1</td>\n",
       "      <td>0</td>\n",
       "      <td>3</td>\n",
       "      <td>Braund, Mr. Owen Harris</td>\n",
       "      <td>male</td>\n",
       "      <td>22.0</td>\n",
       "      <td>1</td>\n",
       "      <td>0</td>\n",
       "      <td>A/5 21171</td>\n",
       "      <td>7.2500</td>\n",
       "      <td>NaN</td>\n",
       "      <td>S</td>\n",
       "    </tr>\n",
       "    <tr>\n",
       "      <th>1</th>\n",
       "      <td>2</td>\n",
       "      <td>1</td>\n",
       "      <td>1</td>\n",
       "      <td>Cumings, Mrs. John Bradley (Florence Briggs Th...</td>\n",
       "      <td>female</td>\n",
       "      <td>38.0</td>\n",
       "      <td>1</td>\n",
       "      <td>0</td>\n",
       "      <td>PC 17599</td>\n",
       "      <td>71.2833</td>\n",
       "      <td>C85</td>\n",
       "      <td>C</td>\n",
       "    </tr>\n",
       "    <tr>\n",
       "      <th>2</th>\n",
       "      <td>3</td>\n",
       "      <td>1</td>\n",
       "      <td>3</td>\n",
       "      <td>Heikkinen, Miss. Laina</td>\n",
       "      <td>female</td>\n",
       "      <td>26.0</td>\n",
       "      <td>0</td>\n",
       "      <td>0</td>\n",
       "      <td>STON/O2. 3101282</td>\n",
       "      <td>7.9250</td>\n",
       "      <td>NaN</td>\n",
       "      <td>S</td>\n",
       "    </tr>\n",
       "    <tr>\n",
       "      <th>3</th>\n",
       "      <td>4</td>\n",
       "      <td>1</td>\n",
       "      <td>1</td>\n",
       "      <td>Futrelle, Mrs. Jacques Heath (Lily May Peel)</td>\n",
       "      <td>female</td>\n",
       "      <td>35.0</td>\n",
       "      <td>1</td>\n",
       "      <td>0</td>\n",
       "      <td>113803</td>\n",
       "      <td>53.1000</td>\n",
       "      <td>C123</td>\n",
       "      <td>S</td>\n",
       "    </tr>\n",
       "    <tr>\n",
       "      <th>4</th>\n",
       "      <td>5</td>\n",
       "      <td>0</td>\n",
       "      <td>3</td>\n",
       "      <td>Allen, Mr. William Henry</td>\n",
       "      <td>male</td>\n",
       "      <td>35.0</td>\n",
       "      <td>0</td>\n",
       "      <td>0</td>\n",
       "      <td>373450</td>\n",
       "      <td>8.0500</td>\n",
       "      <td>NaN</td>\n",
       "      <td>S</td>\n",
       "    </tr>\n",
       "  </tbody>\n",
       "</table>\n",
       "</div>"
      ],
      "text/plain": [
       "   PassengerId  Survived  Pclass  \\\n",
       "0            1         0       3   \n",
       "1            2         1       1   \n",
       "2            3         1       3   \n",
       "3            4         1       1   \n",
       "4            5         0       3   \n",
       "\n",
       "                                                Name     Sex   Age  SibSp  \\\n",
       "0                            Braund, Mr. Owen Harris    male  22.0      1   \n",
       "1  Cumings, Mrs. John Bradley (Florence Briggs Th...  female  38.0      1   \n",
       "2                             Heikkinen, Miss. Laina  female  26.0      0   \n",
       "3       Futrelle, Mrs. Jacques Heath (Lily May Peel)  female  35.0      1   \n",
       "4                           Allen, Mr. William Henry    male  35.0      0   \n",
       "\n",
       "   Parch            Ticket     Fare Cabin Embarked  \n",
       "0      0         A/5 21171   7.2500   NaN        S  \n",
       "1      0          PC 17599  71.2833   C85        C  \n",
       "2      0  STON/O2. 3101282   7.9250   NaN        S  \n",
       "3      0            113803  53.1000  C123        S  \n",
       "4      0            373450   8.0500   NaN        S  "
      ]
     },
     "execution_count": 2,
     "metadata": {},
     "output_type": "execute_result"
    }
   ],
   "source": [
    "# Load in dataset\n",
    "train = pd.read_csv('train.csv')\n",
    "train.head()"
   ]
  },
  {
   "cell_type": "markdown",
   "metadata": {},
   "source": [
    "Looking at the data set, I see that there are 12 variables. However, not all variables have equal predictive value. For example, I would assume that a passenger's name wouldn't play a large role in whether they survived or not. However, a passenger's ticket class or gender may play a larger role.\n",
    "\n",
    "## Dataset Description"
   ]
  },
  {
   "cell_type": "code",
   "execution_count": 3,
   "metadata": {
    "scrolled": false
   },
   "outputs": [
    {
     "name": "stdout",
     "output_type": "stream",
     "text": [
      "<class 'pandas.core.frame.DataFrame'>\n",
      "RangeIndex: 891 entries, 0 to 890\n",
      "Data columns (total 12 columns):\n",
      "PassengerId    891 non-null int64\n",
      "Survived       891 non-null int64\n",
      "Pclass         891 non-null int64\n",
      "Name           891 non-null object\n",
      "Sex            891 non-null object\n",
      "Age            714 non-null float64\n",
      "SibSp          891 non-null int64\n",
      "Parch          891 non-null int64\n",
      "Ticket         891 non-null object\n",
      "Fare           891 non-null float64\n",
      "Cabin          204 non-null object\n",
      "Embarked       889 non-null object\n",
      "dtypes: float64(2), int64(5), object(5)\n",
      "memory usage: 83.6+ KB\n"
     ]
    }
   ],
   "source": [
    "train.info()"
   ]
  },
  {
   "cell_type": "markdown",
   "metadata": {},
   "source": [
    "Seven features are numeric integers or floats. Five features are strings.\n",
    "\n",
    "## Overall Distribution"
   ]
  },
  {
   "cell_type": "code",
   "execution_count": 4,
   "metadata": {},
   "outputs": [
    {
     "data": {
      "text/html": [
       "<div>\n",
       "<style scoped>\n",
       "    .dataframe tbody tr th:only-of-type {\n",
       "        vertical-align: middle;\n",
       "    }\n",
       "\n",
       "    .dataframe tbody tr th {\n",
       "        vertical-align: top;\n",
       "    }\n",
       "\n",
       "    .dataframe thead th {\n",
       "        text-align: right;\n",
       "    }\n",
       "</style>\n",
       "<table border=\"1\" class=\"dataframe\">\n",
       "  <thead>\n",
       "    <tr style=\"text-align: right;\">\n",
       "      <th></th>\n",
       "      <th>PassengerId</th>\n",
       "      <th>Survived</th>\n",
       "      <th>Pclass</th>\n",
       "      <th>Age</th>\n",
       "      <th>SibSp</th>\n",
       "      <th>Parch</th>\n",
       "      <th>Fare</th>\n",
       "    </tr>\n",
       "  </thead>\n",
       "  <tbody>\n",
       "    <tr>\n",
       "      <th>count</th>\n",
       "      <td>891.000000</td>\n",
       "      <td>891.000000</td>\n",
       "      <td>891.000000</td>\n",
       "      <td>714.000000</td>\n",
       "      <td>891.000000</td>\n",
       "      <td>891.000000</td>\n",
       "      <td>891.000000</td>\n",
       "    </tr>\n",
       "    <tr>\n",
       "      <th>mean</th>\n",
       "      <td>446.000000</td>\n",
       "      <td>0.383838</td>\n",
       "      <td>2.308642</td>\n",
       "      <td>29.699118</td>\n",
       "      <td>0.523008</td>\n",
       "      <td>0.381594</td>\n",
       "      <td>32.204208</td>\n",
       "    </tr>\n",
       "    <tr>\n",
       "      <th>std</th>\n",
       "      <td>257.353842</td>\n",
       "      <td>0.486592</td>\n",
       "      <td>0.836071</td>\n",
       "      <td>14.526497</td>\n",
       "      <td>1.102743</td>\n",
       "      <td>0.806057</td>\n",
       "      <td>49.693429</td>\n",
       "    </tr>\n",
       "    <tr>\n",
       "      <th>min</th>\n",
       "      <td>1.000000</td>\n",
       "      <td>0.000000</td>\n",
       "      <td>1.000000</td>\n",
       "      <td>0.420000</td>\n",
       "      <td>0.000000</td>\n",
       "      <td>0.000000</td>\n",
       "      <td>0.000000</td>\n",
       "    </tr>\n",
       "    <tr>\n",
       "      <th>25%</th>\n",
       "      <td>223.500000</td>\n",
       "      <td>0.000000</td>\n",
       "      <td>2.000000</td>\n",
       "      <td>20.125000</td>\n",
       "      <td>0.000000</td>\n",
       "      <td>0.000000</td>\n",
       "      <td>7.910400</td>\n",
       "    </tr>\n",
       "    <tr>\n",
       "      <th>50%</th>\n",
       "      <td>446.000000</td>\n",
       "      <td>0.000000</td>\n",
       "      <td>3.000000</td>\n",
       "      <td>28.000000</td>\n",
       "      <td>0.000000</td>\n",
       "      <td>0.000000</td>\n",
       "      <td>14.454200</td>\n",
       "    </tr>\n",
       "    <tr>\n",
       "      <th>75%</th>\n",
       "      <td>668.500000</td>\n",
       "      <td>1.000000</td>\n",
       "      <td>3.000000</td>\n",
       "      <td>38.000000</td>\n",
       "      <td>1.000000</td>\n",
       "      <td>0.000000</td>\n",
       "      <td>31.000000</td>\n",
       "    </tr>\n",
       "    <tr>\n",
       "      <th>max</th>\n",
       "      <td>891.000000</td>\n",
       "      <td>1.000000</td>\n",
       "      <td>3.000000</td>\n",
       "      <td>80.000000</td>\n",
       "      <td>8.000000</td>\n",
       "      <td>6.000000</td>\n",
       "      <td>512.329200</td>\n",
       "    </tr>\n",
       "  </tbody>\n",
       "</table>\n",
       "</div>"
      ],
      "text/plain": [
       "       PassengerId    Survived      Pclass         Age       SibSp  \\\n",
       "count   891.000000  891.000000  891.000000  714.000000  891.000000   \n",
       "mean    446.000000    0.383838    2.308642   29.699118    0.523008   \n",
       "std     257.353842    0.486592    0.836071   14.526497    1.102743   \n",
       "min       1.000000    0.000000    1.000000    0.420000    0.000000   \n",
       "25%     223.500000    0.000000    2.000000   20.125000    0.000000   \n",
       "50%     446.000000    0.000000    3.000000   28.000000    0.000000   \n",
       "75%     668.500000    1.000000    3.000000   38.000000    1.000000   \n",
       "max     891.000000    1.000000    3.000000   80.000000    8.000000   \n",
       "\n",
       "            Parch        Fare  \n",
       "count  891.000000  891.000000  \n",
       "mean     0.381594   32.204208  \n",
       "std      0.806057   49.693429  \n",
       "min      0.000000    0.000000  \n",
       "25%      0.000000    7.910400  \n",
       "50%      0.000000   14.454200  \n",
       "75%      0.000000   31.000000  \n",
       "max      6.000000  512.329200  "
      ]
     },
     "execution_count": 4,
     "metadata": {},
     "output_type": "execute_result"
    }
   ],
   "source": [
    "train.describe() #Numeric"
   ]
  },
  {
   "cell_type": "markdown",
   "metadata": {},
   "source": [
    "The training set shows that approximately 38% of the passengers survived, which is similar to the actual survival rate of 32%. In addition, most passengers were middle class and between the age of 20-40. Most passengers did not have parents or children onboard whereas ~25% had siblings or spouse onboard."
   ]
  },
  {
   "cell_type": "code",
   "execution_count": 5,
   "metadata": {
    "scrolled": true
   },
   "outputs": [
    {
     "data": {
      "text/html": [
       "<div>\n",
       "<style scoped>\n",
       "    .dataframe tbody tr th:only-of-type {\n",
       "        vertical-align: middle;\n",
       "    }\n",
       "\n",
       "    .dataframe tbody tr th {\n",
       "        vertical-align: top;\n",
       "    }\n",
       "\n",
       "    .dataframe thead th {\n",
       "        text-align: right;\n",
       "    }\n",
       "</style>\n",
       "<table border=\"1\" class=\"dataframe\">\n",
       "  <thead>\n",
       "    <tr style=\"text-align: right;\">\n",
       "      <th></th>\n",
       "      <th>Name</th>\n",
       "      <th>Sex</th>\n",
       "      <th>Ticket</th>\n",
       "      <th>Cabin</th>\n",
       "      <th>Embarked</th>\n",
       "    </tr>\n",
       "  </thead>\n",
       "  <tbody>\n",
       "    <tr>\n",
       "      <th>count</th>\n",
       "      <td>891</td>\n",
       "      <td>891</td>\n",
       "      <td>891</td>\n",
       "      <td>204</td>\n",
       "      <td>889</td>\n",
       "    </tr>\n",
       "    <tr>\n",
       "      <th>unique</th>\n",
       "      <td>891</td>\n",
       "      <td>2</td>\n",
       "      <td>681</td>\n",
       "      <td>147</td>\n",
       "      <td>3</td>\n",
       "    </tr>\n",
       "    <tr>\n",
       "      <th>top</th>\n",
       "      <td>Gilinski, Mr. Eliezer</td>\n",
       "      <td>male</td>\n",
       "      <td>347082</td>\n",
       "      <td>C23 C25 C27</td>\n",
       "      <td>S</td>\n",
       "    </tr>\n",
       "    <tr>\n",
       "      <th>freq</th>\n",
       "      <td>1</td>\n",
       "      <td>577</td>\n",
       "      <td>7</td>\n",
       "      <td>4</td>\n",
       "      <td>644</td>\n",
       "    </tr>\n",
       "  </tbody>\n",
       "</table>\n",
       "</div>"
      ],
      "text/plain": [
       "                         Name   Sex  Ticket        Cabin Embarked\n",
       "count                     891   891     891          204      889\n",
       "unique                    891     2     681          147        3\n",
       "top     Gilinski, Mr. Eliezer  male  347082  C23 C25 C27        S\n",
       "freq                        1   577       7            4      644"
      ]
     },
     "execution_count": 5,
     "metadata": {},
     "output_type": "execute_result"
    }
   ],
   "source": [
    "train.describe(include = ['O']) #Categoric"
   ]
  },
  {
   "cell_type": "markdown",
   "metadata": {},
   "source": [
    "Looking at this table, there seems to be more men (577) than women (314) on the Titanic. In addition, the most popular port to embark was Southampton. There also seems to be a high number of duplicate ticket numbers (24%) and several passengers shared a cabin. No one had the same name.\n",
    "\n",
    "## Correlation\n",
    "\n",
    "Now that I have a high level overview of the variables, I will look at the correlations between different variables."
   ]
  },
  {
   "cell_type": "code",
   "execution_count": 6,
   "metadata": {},
   "outputs": [
    {
     "data": {
      "text/html": [
       "<div>\n",
       "<style scoped>\n",
       "    .dataframe tbody tr th:only-of-type {\n",
       "        vertical-align: middle;\n",
       "    }\n",
       "\n",
       "    .dataframe tbody tr th {\n",
       "        vertical-align: top;\n",
       "    }\n",
       "\n",
       "    .dataframe thead th {\n",
       "        text-align: right;\n",
       "    }\n",
       "</style>\n",
       "<table border=\"1\" class=\"dataframe\">\n",
       "  <thead>\n",
       "    <tr style=\"text-align: right;\">\n",
       "      <th></th>\n",
       "      <th>PassengerId</th>\n",
       "      <th>Survived</th>\n",
       "      <th>Pclass</th>\n",
       "      <th>Age</th>\n",
       "      <th>SibSp</th>\n",
       "      <th>Parch</th>\n",
       "      <th>Fare</th>\n",
       "    </tr>\n",
       "  </thead>\n",
       "  <tbody>\n",
       "    <tr>\n",
       "      <th>PassengerId</th>\n",
       "      <td>1.000000</td>\n",
       "      <td>-0.005007</td>\n",
       "      <td>-0.035144</td>\n",
       "      <td>0.036847</td>\n",
       "      <td>-0.057527</td>\n",
       "      <td>-0.001652</td>\n",
       "      <td>0.012658</td>\n",
       "    </tr>\n",
       "    <tr>\n",
       "      <th>Survived</th>\n",
       "      <td>-0.005007</td>\n",
       "      <td>1.000000</td>\n",
       "      <td>-0.338481</td>\n",
       "      <td>-0.077221</td>\n",
       "      <td>-0.035322</td>\n",
       "      <td>0.081629</td>\n",
       "      <td>0.257307</td>\n",
       "    </tr>\n",
       "    <tr>\n",
       "      <th>Pclass</th>\n",
       "      <td>-0.035144</td>\n",
       "      <td>-0.338481</td>\n",
       "      <td>1.000000</td>\n",
       "      <td>-0.369226</td>\n",
       "      <td>0.083081</td>\n",
       "      <td>0.018443</td>\n",
       "      <td>-0.549500</td>\n",
       "    </tr>\n",
       "    <tr>\n",
       "      <th>Age</th>\n",
       "      <td>0.036847</td>\n",
       "      <td>-0.077221</td>\n",
       "      <td>-0.369226</td>\n",
       "      <td>1.000000</td>\n",
       "      <td>-0.308247</td>\n",
       "      <td>-0.189119</td>\n",
       "      <td>0.096067</td>\n",
       "    </tr>\n",
       "    <tr>\n",
       "      <th>SibSp</th>\n",
       "      <td>-0.057527</td>\n",
       "      <td>-0.035322</td>\n",
       "      <td>0.083081</td>\n",
       "      <td>-0.308247</td>\n",
       "      <td>1.000000</td>\n",
       "      <td>0.414838</td>\n",
       "      <td>0.159651</td>\n",
       "    </tr>\n",
       "    <tr>\n",
       "      <th>Parch</th>\n",
       "      <td>-0.001652</td>\n",
       "      <td>0.081629</td>\n",
       "      <td>0.018443</td>\n",
       "      <td>-0.189119</td>\n",
       "      <td>0.414838</td>\n",
       "      <td>1.000000</td>\n",
       "      <td>0.216225</td>\n",
       "    </tr>\n",
       "    <tr>\n",
       "      <th>Fare</th>\n",
       "      <td>0.012658</td>\n",
       "      <td>0.257307</td>\n",
       "      <td>-0.549500</td>\n",
       "      <td>0.096067</td>\n",
       "      <td>0.159651</td>\n",
       "      <td>0.216225</td>\n",
       "      <td>1.000000</td>\n",
       "    </tr>\n",
       "  </tbody>\n",
       "</table>\n",
       "</div>"
      ],
      "text/plain": [
       "             PassengerId  Survived    Pclass       Age     SibSp     Parch  \\\n",
       "PassengerId     1.000000 -0.005007 -0.035144  0.036847 -0.057527 -0.001652   \n",
       "Survived       -0.005007  1.000000 -0.338481 -0.077221 -0.035322  0.081629   \n",
       "Pclass         -0.035144 -0.338481  1.000000 -0.369226  0.083081  0.018443   \n",
       "Age             0.036847 -0.077221 -0.369226  1.000000 -0.308247 -0.189119   \n",
       "SibSp          -0.057527 -0.035322  0.083081 -0.308247  1.000000  0.414838   \n",
       "Parch          -0.001652  0.081629  0.018443 -0.189119  0.414838  1.000000   \n",
       "Fare            0.012658  0.257307 -0.549500  0.096067  0.159651  0.216225   \n",
       "\n",
       "                 Fare  \n",
       "PassengerId  0.012658  \n",
       "Survived     0.257307  \n",
       "Pclass      -0.549500  \n",
       "Age          0.096067  \n",
       "SibSp        0.159651  \n",
       "Parch        0.216225  \n",
       "Fare         1.000000  "
      ]
     },
     "execution_count": 6,
     "metadata": {},
     "output_type": "execute_result"
    },
    {
     "data": {
      "image/png": "[encoded data removed]",
      "text/plain": [
       "<matplotlib.figure.Figure at 0x2e6218f9b70>"
      ]
     },
     "metadata": {},
     "output_type": "display_data"
    }
   ],
   "source": [
    "plt.figure(figsize=(10,8))\n",
    "cor = train.corr()\n",
    "sns.heatmap(cor, cmap = sns.color_palette('Blues'), annot = True)\n",
    "cor"
   ]
  },
  {
   "cell_type": "markdown",
   "metadata": {},
   "source": [
    "This gives me a rough idea as to where to begin. It seems that Pclass and Fare play a large role on Survival. Therefore, I will look into those variables. Using outside knowledge, I also know that Titanic followed a \"women and children first\" code.\n",
    "Because this is a learning set, I will look at all the variables regardless and see what information I can find.\n",
    "\n",
    "## Data Visualization\n",
    "\n",
    "Currently, the following assumptions can be made:\n",
    "1. Women (Sex = female) were more likely to have survived.\n",
    "2. Children (Age < ?) were more likely to have survived.\n",
    "3. Upper-class passengers (Pclass = 1) were more likely to have survived.\n",
    "\n",
    "I will be diving into each variable with the goal of validating my assumptions. Other variables may be redundant or have no predictive value. I will explore each variable and see what I can find\n",
    "\n",
    "### Age\n",
    "\n",
    "Based on assumption 1, age should play a large role on survival."
   ]
  },
  {
   "cell_type": "code",
   "execution_count": 7,
   "metadata": {
    "scrolled": false
   },
   "outputs": [
    {
     "data": {
      "text/plain": [
       "Text(0.5,1.05,'Age vs. Survival Distribution')"
      ]
     },
     "execution_count": 7,
     "metadata": {},
     "output_type": "execute_result"
    },
    {
     "data": {
      "image/png": "[encoded data removed]",
      "text/plain": [
       "<matplotlib.figure.Figure at 0x2e62204b048>"
      ]
     },
     "metadata": {},
     "output_type": "display_data"
    },
    {
     "data": {
      "image/png": "[encoded data removed]",
      "text/plain": [
       "<matplotlib.figure.Figure at 0x2e621d38550>"
      ]
     },
     "metadata": {},
     "output_type": "display_data"
    },
    {
     "data": {
      "image/png": "[encoded data removed]",
      "text/plain": [
       "<matplotlib.figure.Figure at 0x2e621f05898>"
      ]
     },
     "metadata": {},
     "output_type": "display_data"
    }
   ],
   "source": [
    "# Age Distribution Plot\n",
    "plt.figure(figsize=(13,5))\n",
    "age_plt = sns.distplot(train[np.isfinite(train['Age'])]['Age']) #Ignore Missing Values - Will be addressed later\n",
    "age_plt.axvline(x = train.mean()['Age'], color = 'red', linewidth = 3, linestyle = 'dotted', label = 'mean')\n",
    "age_plt.axvline(x = train.median()['Age'], color ='blue', linewidth = 3, linestyle='dotted', label='median')\n",
    "age_plt.legend(bbox_to_anchor = (1.05, 1), loc = 2)\n",
    "age_plt.set_title('Age Distribution', fontsize = 20)\n",
    "\n",
    "# Age vs. Survival Plot\n",
    "age_survival_plt = sns.FacetGrid(train, col = 'Survived',  hue_kws = {'color': ['thistle']}, aspect = 1.3, size = 5)\n",
    "age_survival_plt.map(plt.hist, 'Age', bins = 20)\n",
    "plt.suptitle('Does age influence survival rates?', fontsize = 22, y = 1.05) \n",
    "\n",
    "# Age vs. Survival Distribution\n",
    "age_survival_dist = sns.FacetGrid(train, hue = 'Survived', aspect = 2.5, size = 5)\n",
    "age_survival_dist.map(sns.kdeplot, 'Age', shade = True)\n",
    "age_survival_dist.add_legend()\n",
    "plt.suptitle('Age vs. Survival Distribution', fontsize = 20, y = 1.05)"
   ]
  },
  {
   "cell_type": "markdown",
   "metadata": {},
   "source": [
    "**Observations:**   \n",
    "The age of the passengers is slightly right skewed, such that the mean is greater than the median. Most passengers are between the ages of 15-40. There was also a large number of infants and very few elderly folks. Most 15-40 year olds did not survive, whereas the majority of children and the oldest person (Age = 80) did survive.\n",
    "\n",
    "**Decisions:**  \n",
    "1. Replace missing age values with the mean\n",
    "2. Age seems to play a role in survival and should be taken into account when fitting\n",
    "3. Age could benefit from being sectioned into band groups.\n",
    "\n",
    "### Sex\n",
    "\n",
    "Based on assumption 2, sex should play a large role on survival."
   ]
  },
  {
   "cell_type": "code",
   "execution_count": 8,
   "metadata": {
    "scrolled": true
   },
   "outputs": [
    {
     "data": {
      "text/html": [
       "<div>\n",
       "<style scoped>\n",
       "    .dataframe tbody tr th:only-of-type {\n",
       "        vertical-align: middle;\n",
       "    }\n",
       "\n",
       "    .dataframe tbody tr th {\n",
       "        vertical-align: top;\n",
       "    }\n",
       "\n",
       "    .dataframe thead th {\n",
       "        text-align: right;\n",
       "    }\n",
       "</style>\n",
       "<table border=\"1\" class=\"dataframe\">\n",
       "  <thead>\n",
       "    <tr style=\"text-align: right;\">\n",
       "      <th></th>\n",
       "      <th>Sex</th>\n",
       "      <th>Survived</th>\n",
       "    </tr>\n",
       "  </thead>\n",
       "  <tbody>\n",
       "    <tr>\n",
       "      <th>0</th>\n",
       "      <td>female</td>\n",
       "      <td>0.742038</td>\n",
       "    </tr>\n",
       "    <tr>\n",
       "      <th>1</th>\n",
       "      <td>male</td>\n",
       "      <td>0.188908</td>\n",
       "    </tr>\n",
       "  </tbody>\n",
       "</table>\n",
       "</div>"
      ],
      "text/plain": [
       "      Sex  Survived\n",
       "0  female  0.742038\n",
       "1    male  0.188908"
      ]
     },
     "execution_count": 8,
     "metadata": {},
     "output_type": "execute_result"
    }
   ],
   "source": [
    "# Contingency Table\n",
    "train[['Sex', 'Survived']].groupby(['Sex'], as_index = False).mean().sort_values(by = 'Survived', ascending = False)"
   ]
  },
  {
   "cell_type": "markdown",
   "metadata": {},
   "source": [
    "**Observation:**  \n",
    "The contingency table shows females were significantly more likely to survive."
   ]
  },
  {
   "cell_type": "code",
   "execution_count": 9,
   "metadata": {},
   "outputs": [
    {
     "data": {
      "text/plain": [
       "Text(0.5,1.02,'Sex vs. Survival Distribution')"
      ]
     },
     "execution_count": 9,
     "metadata": {},
     "output_type": "execute_result"
    },
    {
     "data": {
      "image/png": "[encoded data removed]",
      "text/plain": [
       "<matplotlib.figure.Figure at 0x2e621f19a20>"
      ]
     },
     "metadata": {},
     "output_type": "display_data"
    },
    {
     "data": {
      "image/png": "[encoded data removed]",
      "text/plain": [
       "<matplotlib.figure.Figure at 0x2e62245b160>"
      ]
     },
     "metadata": {},
     "output_type": "display_data"
    }
   ],
   "source": [
    "# Pclass vs. Survival Plot\n",
    "pclass_survival_plt = sns.FacetGrid(train, col = 'Survived', row = 'Sex', hue_kws = {'color': ['cornflowerblue']}, aspect = 1.5, size = 4)\n",
    "pclass_survival_plt.map(plt.hist, 'Age', bins = 20)\n",
    "plt.suptitle('Does gender influence survival rates?', fontsize = 22, y = 1.05) \n",
    "\n",
    "# Gender vs. Survival Distribution \n",
    "sex_survival_dist = sns.FacetGrid(train, hue = 'Survived', row = 'Sex', aspect = 2.5, size = 5)\n",
    "sex_survival_dist.map(sns.kdeplot, 'Age', shade = True)\n",
    "sex_survival_dist.add_legend()\n",
    "plt.suptitle('Sex vs. Survival Distribution', fontsize = 20, y = 1.02)"
   ]
  },
  {
   "cell_type": "markdown",
   "metadata": {},
   "source": [
    "**Observation:**  \n",
    "More men aboarded the Titanic than women, but women were more likely to survive than men. However, there is an exception for young boys. This graph is interesting, because in the previous age distributions, it showed that a high number of 15-35 did not survive. However, this graph shows that a high number of 15-40 did survive if they were women. \n",
    "\n",
    "**Decisions:**\n",
    "1. Consider Sex for model training\n",
    "\n",
    "### Pclass\n",
    "\n",
    "Pclass is the ticket class. 1 indicates the highest class whereas 3 indicates the lowest class. It is a proxy for different socioeconomic classes. Based on assumption 3, the Pclass should play a significant role on survival."
   ]
  },
  {
   "cell_type": "code",
   "execution_count": 10,
   "metadata": {},
   "outputs": [
    {
     "data": {
      "text/html": [
       "<div>\n",
       "<style scoped>\n",
       "    .dataframe tbody tr th:only-of-type {\n",
       "        vertical-align: middle;\n",
       "    }\n",
       "\n",
       "    .dataframe tbody tr th {\n",
       "        vertical-align: top;\n",
       "    }\n",
       "\n",
       "    .dataframe thead th {\n",
       "        text-align: right;\n",
       "    }\n",
       "</style>\n",
       "<table border=\"1\" class=\"dataframe\">\n",
       "  <thead>\n",
       "    <tr style=\"text-align: right;\">\n",
       "      <th></th>\n",
       "      <th>Pclass</th>\n",
       "      <th>Survived</th>\n",
       "    </tr>\n",
       "  </thead>\n",
       "  <tbody>\n",
       "    <tr>\n",
       "      <th>0</th>\n",
       "      <td>1</td>\n",
       "      <td>0.629630</td>\n",
       "    </tr>\n",
       "    <tr>\n",
       "      <th>1</th>\n",
       "      <td>2</td>\n",
       "      <td>0.472826</td>\n",
       "    </tr>\n",
       "    <tr>\n",
       "      <th>2</th>\n",
       "      <td>3</td>\n",
       "      <td>0.242363</td>\n",
       "    </tr>\n",
       "  </tbody>\n",
       "</table>\n",
       "</div>"
      ],
      "text/plain": [
       "   Pclass  Survived\n",
       "0       1  0.629630\n",
       "1       2  0.472826\n",
       "2       3  0.242363"
      ]
     },
     "execution_count": 10,
     "metadata": {},
     "output_type": "execute_result"
    }
   ],
   "source": [
    "# Contingency Table\n",
    "train[['Pclass', 'Survived']].groupby(['Pclass'], as_index = False).mean().sort_values(by = 'Survived', ascending = False)"
   ]
  },
  {
   "cell_type": "markdown",
   "metadata": {},
   "source": [
    "**Observation:**  \n",
    "The contingency table shows that most those in Pclass = 1 were more likely to survive than those in a Pclass = 2 or Pclass = 3. Those in Pclass = 3 were not likely to survive. \n",
    "\n",
    "Let's see how Pclass relates to survival."
   ]
  },
  {
   "cell_type": "code",
   "execution_count": 11,
   "metadata": {},
   "outputs": [
    {
     "data": {
      "text/plain": [
       "Text(0.5,1.02,'Pclass vs. Survival')"
      ]
     },
     "execution_count": 11,
     "metadata": {},
     "output_type": "execute_result"
    },
    {
     "data": {
      "image/png": "[encoded data removed]",
      "text/plain": [
       "<matplotlib.figure.Figure at 0x2e62255b470>"
      ]
     },
     "metadata": {},
     "output_type": "display_data"
    }
   ],
   "source": [
    "# Pclass vs. Survival Plot\n",
    "pclass_survival_plt = sns.FacetGrid(train, col = 'Survived', row = 'Pclass', hue_kws = {'color': ['cadetblue']}, aspect = 1.5, size = 4)\n",
    "pclass_survival_plt.map(plt.hist, 'Age', bins = 20)\n",
    "plt.suptitle('Pclass vs. Survival', fontsize = 22, y = 1.02) "
   ]
  },
  {
   "cell_type": "markdown",
   "metadata": {},
   "source": [
    "**Observations:**  \n",
    "Pclass = 3 had the most passengers, but most of them did not survive. Pclass = 1 had the highest survival rate. Infants were also more likely to survive, regardless of class. This aligns with our previous observation regarding age. There is a good distribution of ages in each class. \n",
    "\n",
    "**Decisions:**\n",
    "1. Consider Pclass for model training\n",
    "\n",
    "### Fare\n",
    "\n",
    "Based on past knowledge, I will make the assumption that fare is correlated to Pclass. Higher fare most likely corresponds with better ticket class, give or take a few last minute or early reservation exceptions. Therefore, those who are paying higher fares, most likely will be in a higher class and is more likely to survive. I will validate this assumption."
   ]
  },
  {
   "cell_type": "code",
   "execution_count": 12,
   "metadata": {},
   "outputs": [
    {
     "data": {
      "text/plain": [
       "Text(0.5,1.02,'Fare vs. Survival')"
      ]
     },
     "execution_count": 12,
     "metadata": {},
     "output_type": "execute_result"
    },
    {
     "data": {
      "image/png": "[encoded data removed]",
      "text/plain": [
       "<matplotlib.figure.Figure at 0x2e622fce9e8>"
      ]
     },
     "metadata": {},
     "output_type": "display_data"
    },
    {
     "data": {
      "image/png": "[encoded data removed]",
      "text/plain": [
       "<matplotlib.figure.Figure at 0x2e623c53630>"
      ]
     },
     "metadata": {},
     "output_type": "display_data"
    }
   ],
   "source": [
    "# Fare Distribution Plot\n",
    "plt.figure(figsize=(13,5))\n",
    "fare_plt = sns.distplot(train['Fare'])\n",
    "fare_plt.axvline(x = train.mean()['Fare'], color = 'red', linewidth = 3, linestyle = 'dotted', label = 'mean')\n",
    "fare_plt.axvline(x = train.median()['Fare'], color ='blue', linewidth = 3, linestyle='dotted', label='median')\n",
    "fare_plt.legend(bbox_to_anchor = (1.05, 1), loc = 2)\n",
    "fare_plt.set_title('Fare Distribution', fontsize = 20)\n",
    "\n",
    "# Fare vs. Survival Plot\n",
    "pclass_survival_plt = sns.FacetGrid(train, col = 'Survived', row = 'Pclass', hue_kws = {'color': ['lightblue']}, aspect = 1.5, size = 3)\n",
    "pclass_survival_plt.map(plt.hist, 'Fare', bins = 10)\n",
    "plt.suptitle('Fare vs. Survival', fontsize = 22, y = 1.02) "
   ]
  },
  {
   "cell_type": "markdown",
   "metadata": {},
   "source": [
    "**Observations:**  \n",
    "Most of the fare prices costed under \\$100; fare higher than \\$100 were for Pclass = 1 tickets. Because fares ranged widely in the \\$1-\\$100 in all three classes, it is difficult to tell based on fare alone who will survive.\n",
    "\n",
    "**Decisions:**  \n",
    "1. Create fare range bands to help with analysis (Ex: Those with fare greater than \\$100 tend to be in Pclass = 1 and those passengers tend to have higher survival rates)\n",
    "2. Doesn't have much predictive value; Pclass provides more information\n",
    "\n",
    "### Embarked\n",
    "\n",
    "There are 3 ports which everyone embarked on: Cherbourg (C), Queenstown (Q), Southampton (S). Where you embarked shouldn't play a large role in whether you survived, but this needs to be verified. Embarked location might convey more information if it is also compared with different demographic variables, like gender or ticket class."
   ]
  },
  {
   "cell_type": "code",
   "execution_count": 13,
   "metadata": {},
   "outputs": [
    {
     "data": {
      "text/plain": [
       "Text(0.5,1.02,'Embarked Survival Rates')"
      ]
     },
     "execution_count": 13,
     "metadata": {},
     "output_type": "execute_result"
    },
    {
     "data": {
      "image/png": "[encoded data removed]",
      "text/plain": [
       "<matplotlib.figure.Figure at 0x2e622f42cf8>"
      ]
     },
     "metadata": {},
     "output_type": "display_data"
    }
   ],
   "source": [
    "# Embarked Survival Rates\n",
    "embarked_plt = sns.FacetGrid(train, aspect = 2, size = 4)\n",
    "embarked_plt.map(sns.barplot, 'Embarked', 'Survived', color = 'plum')\n",
    "plt.suptitle('Embarked Survival Rates', fontsize = 22, y = 1.02) "
   ]
  },
  {
   "cell_type": "markdown",
   "metadata": {},
   "source": [
    "**Observations**  \n",
    "It seems like those who embarked at Cherbourg had a higher rate of survival compared to Southampton and Queenstown. Maybe some ports were in towns where there were more affluent passengers."
   ]
  },
  {
   "cell_type": "code",
   "execution_count": 14,
   "metadata": {},
   "outputs": [
    {
     "data": {
      "text/plain": [
       "Text(0.5,1.02,'Embarked Pclass Distribution')"
      ]
     },
     "execution_count": 14,
     "metadata": {},
     "output_type": "execute_result"
    },
    {
     "data": {
      "image/png": "[encoded data removed]",
      "text/plain": [
       "<matplotlib.figure.Figure at 0x2e62314af28>"
      ]
     },
     "metadata": {},
     "output_type": "display_data"
    },
    {
     "data": {
      "image/png": "[encoded data removed]",
      "text/plain": [
       "<matplotlib.figure.Figure at 0x2e622528f28>"
      ]
     },
     "metadata": {},
     "output_type": "display_data"
    }
   ],
   "source": [
    "# Embarked Gender Distribution\n",
    "embarked_gender_dist = sns.FacetGrid(train, aspect = 2, size = 4)\n",
    "embarked_gender_dist.map(sns.countplot, 'Embarked', hue = 'Sex', data = train)\n",
    "embarked_gender_dist.add_legend()\n",
    "plt.suptitle('Embarked Gender Distribution', fontsize = 22, y = 1.02) \n",
    "\n",
    "# Embarked Pclass Distribution\n",
    "embarked_pclass_dist = sns.FacetGrid(train, aspect = 2, size = 4)\n",
    "embarked_pclass_dist.map(sns.countplot, 'Embarked', hue = 'Pclass', data = train)\n",
    "embarked_pclass_dist.add_legend()\n",
    "plt.suptitle('Embarked Pclass Distribution', fontsize = 22, y = 1.02)"
   ]
  },
  {
   "cell_type": "code",
   "execution_count": 15,
   "metadata": {},
   "outputs": [
    {
     "data": {
      "text/plain": [
       "Text(0.5,1.05,'Do people embarking at different ports have different gender or wealth status?')"
      ]
     },
     "execution_count": 15,
     "metadata": {},
     "output_type": "execute_result"
    },
    {
     "data": {
      "image/png": "[encoded data removed]",
      "text/plain": [
       "<matplotlib.figure.Figure at 0x2e621e374a8>"
      ]
     },
     "metadata": {},
     "output_type": "display_data"
    }
   ],
   "source": [
    "# Embarked vs. Gender vs. Pclass Plot\n",
    "embarked_survival_plt = sns.FacetGrid(train, row='Embarked', size=2.5, aspect=3)\n",
    "embarked_survival_plt.map(sns.pointplot, 'Pclass', 'Survived', 'Sex', palette = 'Paired')\n",
    "embarked_survival_plt.add_legend()\n",
    "plt.suptitle('Do people embarking at different ports have different gender or wealth status?', fontsize = 20, y = 1.05)"
   ]
  },
  {
   "cell_type": "markdown",
   "metadata": {},
   "source": [
    "**Observations**  \n",
    "Southampton had the lowest survival rate, which could correspond to the fact that most passengers were male and in the lower class. On the other hand, Cherbourg had the highest survival rate, which may be supported by the fact that mainly wealthier passengers embarked at that port. Also, only at Cherbourg were men more likely to survive than female. Particularly, in Queenstown, men were least likely to survive.\n",
    "\n",
    "**Decisions:**\n",
    "1. Embarked port seems to play some role in survival rate.\n",
    "\n",
    "### SibSp & Parch\n",
    "\n",
    "This numbers reflect how many siblings, spouses, parents, and children were onboard with the passenger. According to my heat map, these variables had very little correlation with survival rates. Let's look at the contingency table and see what we can find."
   ]
  },
  {
   "cell_type": "code",
   "execution_count": 16,
   "metadata": {},
   "outputs": [
    {
     "data": {
      "text/html": [
       "<div>\n",
       "<style scoped>\n",
       "    .dataframe tbody tr th:only-of-type {\n",
       "        vertical-align: middle;\n",
       "    }\n",
       "\n",
       "    .dataframe tbody tr th {\n",
       "        vertical-align: top;\n",
       "    }\n",
       "\n",
       "    .dataframe thead th {\n",
       "        text-align: right;\n",
       "    }\n",
       "</style>\n",
       "<table border=\"1\" class=\"dataframe\">\n",
       "  <thead>\n",
       "    <tr style=\"text-align: right;\">\n",
       "      <th></th>\n",
       "      <th>Parch</th>\n",
       "      <th>Survived</th>\n",
       "    </tr>\n",
       "  </thead>\n",
       "  <tbody>\n",
       "    <tr>\n",
       "      <th>0</th>\n",
       "      <td>0</td>\n",
       "      <td>0.343658</td>\n",
       "    </tr>\n",
       "    <tr>\n",
       "      <th>1</th>\n",
       "      <td>1</td>\n",
       "      <td>0.550847</td>\n",
       "    </tr>\n",
       "    <tr>\n",
       "      <th>2</th>\n",
       "      <td>2</td>\n",
       "      <td>0.500000</td>\n",
       "    </tr>\n",
       "    <tr>\n",
       "      <th>3</th>\n",
       "      <td>3</td>\n",
       "      <td>0.600000</td>\n",
       "    </tr>\n",
       "    <tr>\n",
       "      <th>4</th>\n",
       "      <td>4</td>\n",
       "      <td>0.000000</td>\n",
       "    </tr>\n",
       "    <tr>\n",
       "      <th>5</th>\n",
       "      <td>5</td>\n",
       "      <td>0.200000</td>\n",
       "    </tr>\n",
       "    <tr>\n",
       "      <th>6</th>\n",
       "      <td>6</td>\n",
       "      <td>0.000000</td>\n",
       "    </tr>\n",
       "  </tbody>\n",
       "</table>\n",
       "</div>"
      ],
      "text/plain": [
       "   Parch  Survived\n",
       "0      0  0.343658\n",
       "1      1  0.550847\n",
       "2      2  0.500000\n",
       "3      3  0.600000\n",
       "4      4  0.000000\n",
       "5      5  0.200000\n",
       "6      6  0.000000"
      ]
     },
     "execution_count": 16,
     "metadata": {},
     "output_type": "execute_result"
    }
   ],
   "source": [
    "train[['Parch', 'Survived']].groupby(['Parch'], as_index = False).mean().sort_values(by = 'Parch')"
   ]
  },
  {
   "cell_type": "code",
   "execution_count": 17,
   "metadata": {},
   "outputs": [
    {
     "data": {
      "text/html": [
       "<div>\n",
       "<style scoped>\n",
       "    .dataframe tbody tr th:only-of-type {\n",
       "        vertical-align: middle;\n",
       "    }\n",
       "\n",
       "    .dataframe tbody tr th {\n",
       "        vertical-align: top;\n",
       "    }\n",
       "\n",
       "    .dataframe thead th {\n",
       "        text-align: right;\n",
       "    }\n",
       "</style>\n",
       "<table border=\"1\" class=\"dataframe\">\n",
       "  <thead>\n",
       "    <tr style=\"text-align: right;\">\n",
       "      <th></th>\n",
       "      <th>SibSp</th>\n",
       "      <th>Survived</th>\n",
       "    </tr>\n",
       "  </thead>\n",
       "  <tbody>\n",
       "    <tr>\n",
       "      <th>0</th>\n",
       "      <td>0</td>\n",
       "      <td>0.345395</td>\n",
       "    </tr>\n",
       "    <tr>\n",
       "      <th>1</th>\n",
       "      <td>1</td>\n",
       "      <td>0.535885</td>\n",
       "    </tr>\n",
       "    <tr>\n",
       "      <th>2</th>\n",
       "      <td>2</td>\n",
       "      <td>0.464286</td>\n",
       "    </tr>\n",
       "    <tr>\n",
       "      <th>3</th>\n",
       "      <td>3</td>\n",
       "      <td>0.250000</td>\n",
       "    </tr>\n",
       "    <tr>\n",
       "      <th>4</th>\n",
       "      <td>4</td>\n",
       "      <td>0.166667</td>\n",
       "    </tr>\n",
       "    <tr>\n",
       "      <th>5</th>\n",
       "      <td>5</td>\n",
       "      <td>0.000000</td>\n",
       "    </tr>\n",
       "    <tr>\n",
       "      <th>6</th>\n",
       "      <td>8</td>\n",
       "      <td>0.000000</td>\n",
       "    </tr>\n",
       "  </tbody>\n",
       "</table>\n",
       "</div>"
      ],
      "text/plain": [
       "   SibSp  Survived\n",
       "0      0  0.345395\n",
       "1      1  0.535885\n",
       "2      2  0.464286\n",
       "3      3  0.250000\n",
       "4      4  0.166667\n",
       "5      5  0.000000\n",
       "6      8  0.000000"
      ]
     },
     "execution_count": 17,
     "metadata": {},
     "output_type": "execute_result"
    }
   ],
   "source": [
    "train[['SibSp', 'Survived']].groupby(['SibSp'], as_index = False).mean().sort_values(by = 'SibSp')"
   ]
  },
  {
   "cell_type": "markdown",
   "metadata": {},
   "source": [
    "**Observations:**  \n",
    "Those who had either 1-2 parent, child, sibling, or spouse on board tend to have higher survival rates. Those with too many parents, children, siblings, or spouses were less likely to survive.\n",
    "\n",
    "**Decisions:**  \n",
    "1. May benefit from creating a new category called \"Family\" to denote the sum between both these variables\n",
    "2. May have some predictive value\n",
    "\n",
    "### Name\n",
    "\n",
    "Each person had a unique name. Therefore, I don't think the name of the person influenced whether or not they lived. However, what may me interesting is their title, as that could indicate social status or wealth.\n",
    "\n",
    "**Decisions:**\n",
    "1. Create new variable called \"Title\" with each person's title\n",
    "\n",
    "### Ticket\n",
    "\n",
    "There is a large number of duplicate ticket numbers and there doesn't seem to be much of a pattern regarding these tickets. This also seems strange, because each person should have their own. There may be no correlation between ticket number and survival.\n",
    "\n",
    "**Decisions:**\n",
    "1. Drop ticket as a predictive variable\n",
    "\n",
    "### Cabin\n",
    "\n",
    "There is a large number of missing cabin values (687 out of 891). It would be difficult to use this variable.\n",
    "\n",
    "**Decisions:**\n",
    "1. Drop Cabin as a predictive variable\n",
    "\n",
    "## Conclusions\n",
    "\n",
    "Based on my EDA, I need to complete the following actions:\n",
    "1. Ticket feature may be dropped from our analysis, because it contains a high ratio of duplicates (22%). Cabin feature may also be dropped as it contains many missing values. There may not be any correlation between these variables and survival.\n",
    "2. PassengerId may be dropped because it doesn't contribute to this dataset and is just an index.\n",
    "3. The unique names of the passenger themselves may not provide any predictive value, but their titles could potentially be used. Engineer a new variable called \"Title\" to extract the passenger's status.\n",
    "4. Parch and SibSp are closely related. It might be easier to create a new variable called \"Family\" to get the total count of family members on board.\n",
    "5. There are missing features in the Age variable. Age is definitely correlated with survival and missing values should be completed.\n",
    "6. Age and Fare may also benefit from a band or range feature.\n",
    "\n",
    "The following assumptions are still valid:\n",
    "1. Women (Sex = female) were more likely to have survived.\n",
    "2. Children (Age < ?) were more likely to have survived.\n",
    "3. Upper-class passengers (Pclass = 1) were more likely to have survived.\n",
    "\n",
    "<a id='Data Preprocessing'></a>\n",
    "# 02. Data Preprocessing\n",
    "\n",
    "Now that I have developed several conclusions and a course of action, I need to clean the data that I will be working with.\n",
    "\n",
    "## Combing Test and Train Datasets"
   ]
  },
  {
   "cell_type": "code",
   "execution_count": 18,
   "metadata": {},
   "outputs": [
    {
     "data": {
      "text/html": [
       "<div>\n",
       "<style scoped>\n",
       "    .dataframe tbody tr th:only-of-type {\n",
       "        vertical-align: middle;\n",
       "    }\n",
       "\n",
       "    .dataframe tbody tr th {\n",
       "        vertical-align: top;\n",
       "    }\n",
       "\n",
       "    .dataframe thead th {\n",
       "        text-align: right;\n",
       "    }\n",
       "</style>\n",
       "<table border=\"1\" class=\"dataframe\">\n",
       "  <thead>\n",
       "    <tr style=\"text-align: right;\">\n",
       "      <th></th>\n",
       "      <th>Age</th>\n",
       "      <th>Cabin</th>\n",
       "      <th>Embarked</th>\n",
       "      <th>Fare</th>\n",
       "      <th>Name</th>\n",
       "      <th>Parch</th>\n",
       "      <th>PassengerId</th>\n",
       "      <th>Pclass</th>\n",
       "      <th>Sex</th>\n",
       "      <th>SibSp</th>\n",
       "      <th>Survived</th>\n",
       "      <th>Ticket</th>\n",
       "    </tr>\n",
       "  </thead>\n",
       "  <tbody>\n",
       "    <tr>\n",
       "      <th>1304</th>\n",
       "      <td>NaN</td>\n",
       "      <td>NaN</td>\n",
       "      <td>S</td>\n",
       "      <td>8.0500</td>\n",
       "      <td>Spector, Mr. Woolf</td>\n",
       "      <td>0</td>\n",
       "      <td>1305</td>\n",
       "      <td>3</td>\n",
       "      <td>male</td>\n",
       "      <td>0</td>\n",
       "      <td>NaN</td>\n",
       "      <td>A.5. 3236</td>\n",
       "    </tr>\n",
       "    <tr>\n",
       "      <th>1305</th>\n",
       "      <td>39.0</td>\n",
       "      <td>C105</td>\n",
       "      <td>C</td>\n",
       "      <td>108.9000</td>\n",
       "      <td>Oliva y Ocana, Dona. Fermina</td>\n",
       "      <td>0</td>\n",
       "      <td>1306</td>\n",
       "      <td>1</td>\n",
       "      <td>female</td>\n",
       "      <td>0</td>\n",
       "      <td>NaN</td>\n",
       "      <td>PC 17758</td>\n",
       "    </tr>\n",
       "    <tr>\n",
       "      <th>1306</th>\n",
       "      <td>38.5</td>\n",
       "      <td>NaN</td>\n",
       "      <td>S</td>\n",
       "      <td>7.2500</td>\n",
       "      <td>Saether, Mr. Simon Sivertsen</td>\n",
       "      <td>0</td>\n",
       "      <td>1307</td>\n",
       "      <td>3</td>\n",
       "      <td>male</td>\n",
       "      <td>0</td>\n",
       "      <td>NaN</td>\n",
       "      <td>SOTON/O.Q. 3101262</td>\n",
       "    </tr>\n",
       "    <tr>\n",
       "      <th>1307</th>\n",
       "      <td>NaN</td>\n",
       "      <td>NaN</td>\n",
       "      <td>S</td>\n",
       "      <td>8.0500</td>\n",
       "      <td>Ware, Mr. Frederick</td>\n",
       "      <td>0</td>\n",
       "      <td>1308</td>\n",
       "      <td>3</td>\n",
       "      <td>male</td>\n",
       "      <td>0</td>\n",
       "      <td>NaN</td>\n",
       "      <td>359309</td>\n",
       "    </tr>\n",
       "    <tr>\n",
       "      <th>1308</th>\n",
       "      <td>NaN</td>\n",
       "      <td>NaN</td>\n",
       "      <td>C</td>\n",
       "      <td>22.3583</td>\n",
       "      <td>Peter, Master. Michael J</td>\n",
       "      <td>1</td>\n",
       "      <td>1309</td>\n",
       "      <td>3</td>\n",
       "      <td>male</td>\n",
       "      <td>1</td>\n",
       "      <td>NaN</td>\n",
       "      <td>2668</td>\n",
       "    </tr>\n",
       "  </tbody>\n",
       "</table>\n",
       "</div>"
      ],
      "text/plain": [
       "       Age Cabin Embarked      Fare                          Name  Parch  \\\n",
       "1304   NaN   NaN        S    8.0500            Spector, Mr. Woolf      0   \n",
       "1305  39.0  C105        C  108.9000  Oliva y Ocana, Dona. Fermina      0   \n",
       "1306  38.5   NaN        S    7.2500  Saether, Mr. Simon Sivertsen      0   \n",
       "1307   NaN   NaN        S    8.0500           Ware, Mr. Frederick      0   \n",
       "1308   NaN   NaN        C   22.3583      Peter, Master. Michael J      1   \n",
       "\n",
       "      PassengerId  Pclass     Sex  SibSp  Survived              Ticket  \n",
       "1304         1305       3    male      0       NaN           A.5. 3236  \n",
       "1305         1306       1  female      0       NaN            PC 17758  \n",
       "1306         1307       3    male      0       NaN  SOTON/O.Q. 3101262  \n",
       "1307         1308       3    male      0       NaN              359309  \n",
       "1308         1309       3    male      1       NaN                2668  "
      ]
     },
     "execution_count": 18,
     "metadata": {},
     "output_type": "execute_result"
    }
   ],
   "source": [
    "test = pd.read_csv('test.csv')\n",
    "titanic = train.append(test, ignore_index = True)\n",
    "titanic.tail()"
   ]
  },
  {
   "cell_type": "markdown",
   "metadata": {},
   "source": [
    "## Dropping Irrelevant Variables\n",
    "\n",
    "It has been decided that Ticket, Cabin and Id will be dropped. "
   ]
  },
  {
   "cell_type": "code",
   "execution_count": 19,
   "metadata": {},
   "outputs": [],
   "source": [
    "titanic = titanic.drop(['PassengerId', 'Ticket', 'Cabin'], axis = 1)"
   ]
  },
  {
   "cell_type": "markdown",
   "metadata": {},
   "source": [
    "## Feature Engineering\n",
    "\n",
    "### Title\n",
    "\n",
    "Let's start by looking at whether title of a person plays a role. I will use regex to capture the title of a person's name."
   ]
  },
  {
   "cell_type": "code",
   "execution_count": 20,
   "metadata": {
    "scrolled": false
   },
   "outputs": [
    {
     "data": {
      "text/html": [
       "<div>\n",
       "<style scoped>\n",
       "    .dataframe tbody tr th:only-of-type {\n",
       "        vertical-align: middle;\n",
       "    }\n",
       "\n",
       "    .dataframe tbody tr th {\n",
       "        vertical-align: top;\n",
       "    }\n",
       "\n",
       "    .dataframe thead th {\n",
       "        text-align: right;\n",
       "    }\n",
       "</style>\n",
       "<table border=\"1\" class=\"dataframe\">\n",
       "  <thead>\n",
       "    <tr style=\"text-align: right;\">\n",
       "      <th>Sex</th>\n",
       "      <th>female</th>\n",
       "      <th>male</th>\n",
       "    </tr>\n",
       "    <tr>\n",
       "      <th>Title</th>\n",
       "      <th></th>\n",
       "      <th></th>\n",
       "    </tr>\n",
       "  </thead>\n",
       "  <tbody>\n",
       "    <tr>\n",
       "      <th>Capt</th>\n",
       "      <td>0</td>\n",
       "      <td>1</td>\n",
       "    </tr>\n",
       "    <tr>\n",
       "      <th>Col</th>\n",
       "      <td>0</td>\n",
       "      <td>4</td>\n",
       "    </tr>\n",
       "    <tr>\n",
       "      <th>Countess</th>\n",
       "      <td>1</td>\n",
       "      <td>0</td>\n",
       "    </tr>\n",
       "    <tr>\n",
       "      <th>Don</th>\n",
       "      <td>0</td>\n",
       "      <td>1</td>\n",
       "    </tr>\n",
       "    <tr>\n",
       "      <th>Dona</th>\n",
       "      <td>1</td>\n",
       "      <td>0</td>\n",
       "    </tr>\n",
       "    <tr>\n",
       "      <th>Dr</th>\n",
       "      <td>1</td>\n",
       "      <td>7</td>\n",
       "    </tr>\n",
       "    <tr>\n",
       "      <th>Jonkheer</th>\n",
       "      <td>0</td>\n",
       "      <td>1</td>\n",
       "    </tr>\n",
       "    <tr>\n",
       "      <th>Lady</th>\n",
       "      <td>1</td>\n",
       "      <td>0</td>\n",
       "    </tr>\n",
       "    <tr>\n",
       "      <th>Major</th>\n",
       "      <td>0</td>\n",
       "      <td>2</td>\n",
       "    </tr>\n",
       "    <tr>\n",
       "      <th>Master</th>\n",
       "      <td>0</td>\n",
       "      <td>61</td>\n",
       "    </tr>\n",
       "    <tr>\n",
       "      <th>Miss</th>\n",
       "      <td>260</td>\n",
       "      <td>0</td>\n",
       "    </tr>\n",
       "    <tr>\n",
       "      <th>Mlle</th>\n",
       "      <td>2</td>\n",
       "      <td>0</td>\n",
       "    </tr>\n",
       "    <tr>\n",
       "      <th>Mme</th>\n",
       "      <td>1</td>\n",
       "      <td>0</td>\n",
       "    </tr>\n",
       "    <tr>\n",
       "      <th>Mr</th>\n",
       "      <td>0</td>\n",
       "      <td>757</td>\n",
       "    </tr>\n",
       "    <tr>\n",
       "      <th>Mrs</th>\n",
       "      <td>197</td>\n",
       "      <td>0</td>\n",
       "    </tr>\n",
       "    <tr>\n",
       "      <th>Ms</th>\n",
       "      <td>2</td>\n",
       "      <td>0</td>\n",
       "    </tr>\n",
       "    <tr>\n",
       "      <th>Rev</th>\n",
       "      <td>0</td>\n",
       "      <td>8</td>\n",
       "    </tr>\n",
       "    <tr>\n",
       "      <th>Sir</th>\n",
       "      <td>0</td>\n",
       "      <td>1</td>\n",
       "    </tr>\n",
       "  </tbody>\n",
       "</table>\n",
       "</div>"
      ],
      "text/plain": [
       "Sex       female  male\n",
       "Title                 \n",
       "Capt           0     1\n",
       "Col            0     4\n",
       "Countess       1     0\n",
       "Don            0     1\n",
       "Dona           1     0\n",
       "Dr             1     7\n",
       "Jonkheer       0     1\n",
       "Lady           1     0\n",
       "Major          0     2\n",
       "Master         0    61\n",
       "Miss         260     0\n",
       "Mlle           2     0\n",
       "Mme            1     0\n",
       "Mr             0   757\n",
       "Mrs          197     0\n",
       "Ms             2     0\n",
       "Rev            0     8\n",
       "Sir            0     1"
      ]
     },
     "execution_count": 20,
     "metadata": {},
     "output_type": "execute_result"
    }
   ],
   "source": [
    "titanic['Title'] = titanic['Name'].str.extract(' ([A-Za-z]+)\\.', expand=False)\n",
    "pd.crosstab(titanic['Title'], titanic['Sex'])"
   ]
  },
  {
   "cell_type": "code",
   "execution_count": 21,
   "metadata": {
    "scrolled": true
   },
   "outputs": [
    {
     "data": {
      "text/plain": [
       "Text(0.5,1.02,'Title Survival Rates')"
      ]
     },
     "execution_count": 21,
     "metadata": {},
     "output_type": "execute_result"
    },
    {
     "data": {
      "image/png": "[encoded data removed]",
      "text/plain": [
       "<matplotlib.figure.Figure at 0x2e6240e2b38>"
      ]
     },
     "metadata": {},
     "output_type": "display_data"
    }
   ],
   "source": [
    "title_plt = sns.FacetGrid(titanic, aspect = 4, size = 3)\n",
    "title_plt.map(sns.barplot, 'Title', 'Survived', color = 'lightblue')\n",
    "plt.suptitle('Title Survival Rates', fontsize = 22, y = 1.02) "
   ]
  },
  {
   "cell_type": "markdown",
   "metadata": {},
   "source": [
    "**Observations:**  \n",
    "It seems like some of these titles can be further consolidated. \n",
    "- Mme is the French abbreviation for Madame, or Mrs. \n",
    "- Mlle is the French abbreviation for Mademoiselle, or Ms. \n",
    "- Ms can be moved into the Miss category.\n",
    "- Don & Dona are honorific titles and can be classified into a category for Royality - Men & Royality - Women.\n",
    "- Capt, Col, Major, Dr and Rev were mainly men and can be classified as Officers.\n",
    "- Lady and Countess are different levels of Royality - Women.\n",
    "- Sir represents a knight and can be classified into Royality - Men.\n",
    "- Jonkheer represents the lowest rank within royality but still can be classified as Royality - Men."
   ]
  },
  {
   "cell_type": "code",
   "execution_count": 22,
   "metadata": {},
   "outputs": [],
   "source": [
    "# Classify Titles\n",
    "titanic['Title'] = titanic['Title'].replace('Mme', 'Mrs')\n",
    "titanic['Title'] = titanic['Title'].replace(['Mlle', 'Ms'], 'Miss')\n",
    "titanic['Title'] = titanic['Title'].replace(['Capt', 'Col', 'Major', 'Dr', 'Rev'], 'Officer')\n",
    "titanic['Title'] = titanic['Title'].replace(['Lady', 'Countess', 'Dona'], 'Royalty - Women')\n",
    "titanic['Title'] = titanic['Title'].replace(['Don', 'Sir', 'Jonkheer'], 'Royalty - Men')"
   ]
  },
  {
   "cell_type": "code",
   "execution_count": 23,
   "metadata": {},
   "outputs": [
    {
     "data": {
      "text/html": [
       "<div>\n",
       "<style scoped>\n",
       "    .dataframe tbody tr th:only-of-type {\n",
       "        vertical-align: middle;\n",
       "    }\n",
       "\n",
       "    .dataframe tbody tr th {\n",
       "        vertical-align: top;\n",
       "    }\n",
       "\n",
       "    .dataframe thead th {\n",
       "        text-align: right;\n",
       "    }\n",
       "</style>\n",
       "<table border=\"1\" class=\"dataframe\">\n",
       "  <thead>\n",
       "    <tr style=\"text-align: right;\">\n",
       "      <th></th>\n",
       "      <th>Title</th>\n",
       "      <th>Survived</th>\n",
       "    </tr>\n",
       "  </thead>\n",
       "  <tbody>\n",
       "    <tr>\n",
       "      <th>0</th>\n",
       "      <td>Master</td>\n",
       "      <td>0.575000</td>\n",
       "    </tr>\n",
       "    <tr>\n",
       "      <th>1</th>\n",
       "      <td>Miss</td>\n",
       "      <td>0.702703</td>\n",
       "    </tr>\n",
       "    <tr>\n",
       "      <th>2</th>\n",
       "      <td>Mr</td>\n",
       "      <td>0.156673</td>\n",
       "    </tr>\n",
       "    <tr>\n",
       "      <th>3</th>\n",
       "      <td>Mrs</td>\n",
       "      <td>0.793651</td>\n",
       "    </tr>\n",
       "    <tr>\n",
       "      <th>4</th>\n",
       "      <td>Officer</td>\n",
       "      <td>0.277778</td>\n",
       "    </tr>\n",
       "    <tr>\n",
       "      <th>5</th>\n",
       "      <td>Royalty - Men</td>\n",
       "      <td>0.333333</td>\n",
       "    </tr>\n",
       "    <tr>\n",
       "      <th>6</th>\n",
       "      <td>Royalty - Women</td>\n",
       "      <td>1.000000</td>\n",
       "    </tr>\n",
       "  </tbody>\n",
       "</table>\n",
       "</div>"
      ],
      "text/plain": [
       "             Title  Survived\n",
       "0           Master  0.575000\n",
       "1             Miss  0.702703\n",
       "2               Mr  0.156673\n",
       "3              Mrs  0.793651\n",
       "4          Officer  0.277778\n",
       "5    Royalty - Men  0.333333\n",
       "6  Royalty - Women  1.000000"
      ]
     },
     "execution_count": 23,
     "metadata": {},
     "output_type": "execute_result"
    }
   ],
   "source": [
    "titanic[['Title', 'Survived']].groupby(['Title'], as_index=False).mean()"
   ]
  },
  {
   "cell_type": "markdown",
   "metadata": {},
   "source": [
    "**Observations:**\n",
    "As expected, women tend to have a higher survival rate than men. Royalty women are very likely to survive and 70-80% of non-royalty women also survived. Master is an English honorific for young boys and men. Based on our previous assumption, children were more likely to survive, so it makes sense that masters had a high survival rate.\n",
    "\n",
    "**Decisions:**\n",
    "1. Title seems to play a role in survival and should be kept for model fitting\n",
    "2. Name is no longer needed and can be dropped"
   ]
  },
  {
   "cell_type": "code",
   "execution_count": 24,
   "metadata": {},
   "outputs": [],
   "source": [
    "titanic = titanic.drop(['Name'], axis = 1)"
   ]
  },
  {
   "cell_type": "markdown",
   "metadata": {},
   "source": [
    "### Family\n",
    "\n",
    "Earlier, I mentioned that those who had either 1-2 parent, child, sibling, or spouse on board tend to have higher survival rates. Those with too many parents, children, siblings, or spouses were less likely to survive. I can combine them into a family category. Those who are travelling by themselves will be classified as None. Those who are travelling with 1-2 other people are considered a Small Family. Double that is considered a Medium Family. Anything greater than 4 is considered a Large Family."
   ]
  },
  {
   "cell_type": "code",
   "execution_count": 25,
   "metadata": {},
   "outputs": [],
   "source": [
    "# New Category: Family = Parch + SibSp\n",
    "titanic['Family Size'] = titanic['Parch'] + titanic['SibSp']\n",
    "\n",
    "# Classify Families Based on Size\n",
    "titanic['Family Size'] = titanic['Family Size'].replace(0, 'None')\n",
    "titanic['Family Size'] = titanic['Family Size'].replace([1,2], 'Small')\n",
    "titanic['Family Size'] = titanic['Family Size'].replace([3,4], 'Medium')\n",
    "titanic['Family Size'] = titanic['Family Size'].replace([5,6,7,8,9,10], 'Large')"
   ]
  },
  {
   "cell_type": "code",
   "execution_count": 26,
   "metadata": {
    "scrolled": true
   },
   "outputs": [
    {
     "data": {
      "text/html": [
       "<div>\n",
       "<style scoped>\n",
       "    .dataframe tbody tr th:only-of-type {\n",
       "        vertical-align: middle;\n",
       "    }\n",
       "\n",
       "    .dataframe tbody tr th {\n",
       "        vertical-align: top;\n",
       "    }\n",
       "\n",
       "    .dataframe thead th {\n",
       "        text-align: right;\n",
       "    }\n",
       "</style>\n",
       "<table border=\"1\" class=\"dataframe\">\n",
       "  <thead>\n",
       "    <tr style=\"text-align: right;\">\n",
       "      <th></th>\n",
       "      <th>Family Size</th>\n",
       "      <th>Survived</th>\n",
       "    </tr>\n",
       "  </thead>\n",
       "  <tbody>\n",
       "    <tr>\n",
       "      <th>0</th>\n",
       "      <td>Large</td>\n",
       "      <td>0.148936</td>\n",
       "    </tr>\n",
       "    <tr>\n",
       "      <th>1</th>\n",
       "      <td>Medium</td>\n",
       "      <td>0.545455</td>\n",
       "    </tr>\n",
       "    <tr>\n",
       "      <th>2</th>\n",
       "      <td>None</td>\n",
       "      <td>0.303538</td>\n",
       "    </tr>\n",
       "    <tr>\n",
       "      <th>3</th>\n",
       "      <td>Small</td>\n",
       "      <td>0.562738</td>\n",
       "    </tr>\n",
       "  </tbody>\n",
       "</table>\n",
       "</div>"
      ],
      "text/plain": [
       "  Family Size  Survived\n",
       "0       Large  0.148936\n",
       "1      Medium  0.545455\n",
       "2        None  0.303538\n",
       "3       Small  0.562738"
      ]
     },
     "execution_count": 26,
     "metadata": {},
     "output_type": "execute_result"
    }
   ],
   "source": [
    "titanic[['Family Size', 'Survived']].groupby(['Family Size'], as_index=False).mean()"
   ]
  },
  {
   "cell_type": "markdown",
   "metadata": {},
   "source": [
    "**Observations:**  \n",
    "Our assumptions are correct. Those with travelling in a large family were least likely to survive. Those travelling in small-medium families had the best chance of survival. \n",
    "\n",
    "**Decisions:**\n",
    "1. Family has some predictive power and can be kept\n",
    "2. Parch and SibSp are no longer needed and can be dropped"
   ]
  },
  {
   "cell_type": "code",
   "execution_count": 27,
   "metadata": {},
   "outputs": [],
   "source": [
    "titanic = titanic.drop(['Parch', 'SibSp'], axis = 1)"
   ]
  },
  {
   "cell_type": "markdown",
   "metadata": {},
   "source": [
    "## Accounting for Missing Values\n",
    "\n",
    "First, let's find out which variables have missing data."
   ]
  },
  {
   "cell_type": "code",
   "execution_count": 28,
   "metadata": {},
   "outputs": [
    {
     "data": {
      "text/plain": [
       "Age            263\n",
       "Embarked         2\n",
       "Fare             1\n",
       "Pclass           0\n",
       "Sex              0\n",
       "Survived       418\n",
       "Title            0\n",
       "Family Size      0\n",
       "dtype: int64"
      ]
     },
     "execution_count": 28,
     "metadata": {},
     "output_type": "execute_result"
    }
   ],
   "source": [
    "titanic.isnull().sum()"
   ]
  },
  {
   "cell_type": "markdown",
   "metadata": {},
   "source": [
    "Survived can be ignored, as that is the target variable. There are several ways to account for missing values. \n",
    "1. Embarked: It would be easiest to just replace the missing 2 values with the most common port.\n",
    "2. Fare: Because only one person's fare is missing, it would be easiest to just use the median fare to replace the missing value.\n",
    "3. Age: Age is a bit trickier. There are significantly more missing values. One way I could approach this is to look at their Title and guestimate their age with the mean value of that Title's age."
   ]
  },
  {
   "cell_type": "code",
   "execution_count": 29,
   "metadata": {},
   "outputs": [],
   "source": [
    "# Embarked\n",
    "freq_port = titanic.Embarked.dropna().mode()[0] #freq_port = S\n",
    "titanic['Embarked'] = titanic['Embarked'].fillna(freq_port)\n",
    "\n",
    "# Fare\n",
    "titanic['Fare'].fillna(titanic['Fare'].dropna().median(), inplace=True)"
   ]
  },
  {
   "cell_type": "code",
   "execution_count": 30,
   "metadata": {},
   "outputs": [
    {
     "data": {
      "text/html": [
       "<div>\n",
       "<style scoped>\n",
       "    .dataframe tbody tr th:only-of-type {\n",
       "        vertical-align: middle;\n",
       "    }\n",
       "\n",
       "    .dataframe tbody tr th {\n",
       "        vertical-align: top;\n",
       "    }\n",
       "\n",
       "    .dataframe thead th {\n",
       "        text-align: right;\n",
       "    }\n",
       "</style>\n",
       "<table border=\"1\" class=\"dataframe\">\n",
       "  <thead>\n",
       "    <tr style=\"text-align: right;\">\n",
       "      <th></th>\n",
       "      <th>Title</th>\n",
       "      <th>Age</th>\n",
       "    </tr>\n",
       "  </thead>\n",
       "  <tbody>\n",
       "    <tr>\n",
       "      <th>0</th>\n",
       "      <td>Master</td>\n",
       "      <td>5.482642</td>\n",
       "    </tr>\n",
       "    <tr>\n",
       "      <th>1</th>\n",
       "      <td>Miss</td>\n",
       "      <td>21.824366</td>\n",
       "    </tr>\n",
       "    <tr>\n",
       "      <th>2</th>\n",
       "      <td>Mr</td>\n",
       "      <td>32.252151</td>\n",
       "    </tr>\n",
       "    <tr>\n",
       "      <th>3</th>\n",
       "      <td>Mrs</td>\n",
       "      <td>36.918129</td>\n",
       "    </tr>\n",
       "    <tr>\n",
       "      <th>4</th>\n",
       "      <td>Officer</td>\n",
       "      <td>46.272727</td>\n",
       "    </tr>\n",
       "    <tr>\n",
       "      <th>5</th>\n",
       "      <td>Royalty - Men</td>\n",
       "      <td>42.333333</td>\n",
       "    </tr>\n",
       "    <tr>\n",
       "      <th>6</th>\n",
       "      <td>Royalty - Women</td>\n",
       "      <td>40.000000</td>\n",
       "    </tr>\n",
       "  </tbody>\n",
       "</table>\n",
       "</div>"
      ],
      "text/plain": [
       "             Title        Age\n",
       "0           Master   5.482642\n",
       "1             Miss  21.824366\n",
       "2               Mr  32.252151\n",
       "3              Mrs  36.918129\n",
       "4          Officer  46.272727\n",
       "5    Royalty - Men  42.333333\n",
       "6  Royalty - Women  40.000000"
      ]
     },
     "execution_count": 30,
     "metadata": {},
     "output_type": "execute_result"
    }
   ],
   "source": [
    "# Average Age Based on Title\n",
    "ave_age = titanic[['Title', 'Age']].groupby(['Title'], as_index=False).mean()\n",
    "ave_age"
   ]
  },
  {
   "cell_type": "code",
   "execution_count": 31,
   "metadata": {
    "scrolled": false
   },
   "outputs": [],
   "source": [
    "# Age\n",
    "title_names = ave_age['Title'].tolist()\n",
    "\n",
    "for name in title_names:\n",
    "    age = ave_age['Age'].loc[ave_age['Title'] == name].item()\n",
    "    titanic['Age'].loc[titanic['Title'] == name] = titanic['Age'].loc[titanic['Title'] == name].fillna(age) \n",
    "    #Bug doesn't allow inplace=True to work with loc"
   ]
  },
  {
   "cell_type": "code",
   "execution_count": 32,
   "metadata": {},
   "outputs": [
    {
     "data": {
      "text/plain": [
       "Age              0\n",
       "Embarked         0\n",
       "Fare             0\n",
       "Pclass           0\n",
       "Sex              0\n",
       "Survived       418\n",
       "Title            0\n",
       "Family Size      0\n",
       "dtype: int64"
      ]
     },
     "execution_count": 32,
     "metadata": {},
     "output_type": "execute_result"
    }
   ],
   "source": [
    "# Make sure all missing variables are gone\n",
    "titanic.isnull().sum()"
   ]
  },
  {
   "cell_type": "markdown",
   "metadata": {},
   "source": [
    "## Creating Bands\n",
    "\n",
    "Age and Fare could both benefit from banding and grouping. \n",
    "- Age could be separated based on what we distinguish as different age groups. \n",
    "- Fare could be separated based on quantile."
   ]
  },
  {
   "cell_type": "code",
   "execution_count": 33,
   "metadata": {},
   "outputs": [],
   "source": [
    "# Age\n",
    "#bins = (0, 5, 12, 18, 25, 35, 60, 100)\n",
    "#age_labels = ['Baby', 'Child', 'Teenager', 'Minor', 'Young Adult', 'Adult', 'Senior']\n",
    "#titanic['Age'] = pd.cut(titanic['Age'], bins, labels = age_labels)\n",
    "\n",
    "#Fare\n",
    "#fare_labels = [1, 2, 3, 4, 5]\n",
    "#titanic['Fare Quintile'] = pd.qcut(titanic['Fare'], 5, fare_labels)\n",
    "#titanic = titanic.drop(['Fare'], axis = 1)"
   ]
  },
  {
   "cell_type": "code",
   "execution_count": 34,
   "metadata": {},
   "outputs": [],
   "source": [
    "#titanic[['Age', 'Survived']].groupby(['Age'], as_index = False).mean()"
   ]
  },
  {
   "cell_type": "code",
   "execution_count": 35,
   "metadata": {},
   "outputs": [],
   "source": [
    "#titanic[['Fare Quintile', 'Survived']].groupby(['Fare Quintile'], as_index = False).mean()"
   ]
  },
  {
   "cell_type": "markdown",
   "metadata": {},
   "source": [
    "**Observations:**  \n",
    "Banding together similar ranges made it easier to interpret groups of people within a similar age or fare. However, I noticed it decreased my test scores and it has been commented out.\n",
    "\n",
    "## One Hot Encoding\n",
    "\n",
    "In order to fit the data, all the categorical variables need to be converted to numerical values. One way to approach this is to manually map each categorical level with a number. Another faster way to do this is to one-hot encode using get_dummies. However, this method does not look as clean."
   ]
  },
  {
   "cell_type": "code",
   "execution_count": 36,
   "metadata": {},
   "outputs": [],
   "source": [
    "# Manually Mapping\n",
    "#titanic['Embarked'] = titanic['Embarked'].map( {'S': 0, 'C': 1, 'Q': 2} ).astype(int)\n",
    "#titanic['Family Size'] = titanic['Family Size'].map( {'None': 0, 'Small': 1, 'Medium': 2, 'Large': 3} ).astype(int)\n",
    "#titanic['Sex'] = titanic['Sex'].map( {'Female': 0, 'Male': 1} ).astype(int)\n",
    "#titanic['Title'] = titanic['Title'].map( {'Master': 0, 'Miss': 1, 'Mr': 2, 'Mrs': 3, 'Officer': 4, 'Royalty - Men': 5, 'Royalty - Women': 6 } ).astype(int)"
   ]
  },
  {
   "cell_type": "code",
   "execution_count": 37,
   "metadata": {},
   "outputs": [],
   "source": [
    "# One-hot Encode with get_dummies\n",
    "titanic = pd.get_dummies(titanic)"
   ]
  },
  {
   "cell_type": "markdown",
   "metadata": {},
   "source": [
    "## Conclusions\n",
    "\n",
    "We are now done preprocessing the data. It is cleaned and ready to be fitted. It just needs to be split back into its original train and test group. "
   ]
  },
  {
   "cell_type": "code",
   "execution_count": 38,
   "metadata": {},
   "outputs": [],
   "source": [
    "train_cleaned = titanic[0:890]\n",
    "test_cleaned = titanic[891:]"
   ]
  },
  {
   "cell_type": "markdown",
   "metadata": {},
   "source": [
    "<a id='Modeling'></a>\n",
    "# 03. Modeling\n",
    "\n",
    "This is a binary classification and regression supervised learning problem. Therefore, I will fit the following models to my data:\n",
    "- **Logistic Regression**: Logistic regression measures the relationship between the target and features by estimating probabilities using a logistic function.\n",
    "- **KNN**: KNN is a non-parametric method used for classification and regression. A sample is classified by a majority vote of its neighbors, with the sample being assigned to the class most common among its k nearest neighbors. \n",
    "- **Support Vector Machines**: Given a set of training samples, each marked as belonging to one or the other of two categories, an SVM training algorithm builds a model that assigns new test samples to one category or the other, making it a non-probabilistic binary linear classifier.\n",
    "- **Naive Bayes Classifier**: Naive Bayes classifiers are a family of simple probabilistic classifiers based on applying Bayes' theorem with strong independence assumptions between the features. Naive Bayes classifiers are highly scalable, requiring a number of parameters linear in the number of variables (features) in a learning problem.\n",
    "- **Decision Tree**: Decision tree maps features (tree branches) to conclusions about the target value (tree leaves). \n",
    "- **Random Forest**: Random forests are an ensemble learning method for classification, regression and other tasks, that operate by constructing a multitude of decision trees at training time and outputting the class that is the mode of the classes (classification) or mean prediction (regression) of the individual trees.\n",
    "- **Perceptron**: The perceptron is an algorithm for supervised learning of binary classifiers that bases its predictions on a linear predictor function combining a set of weights with the feature vector. \n",
    "\n",
    "*Reference: Wikipedia*"
   ]
  },
  {
   "cell_type": "code",
   "execution_count": 39,
   "metadata": {},
   "outputs": [],
   "source": [
    "from sklearn.model_selection import train_test_split\n",
    "from sklearn.linear_model import LogisticRegression, Perceptron\n",
    "from sklearn.svm import SVC\n",
    "from sklearn.ensemble import RandomForestClassifier\n",
    "from sklearn.neighbors import KNeighborsClassifier\n",
    "from sklearn.naive_bayes import GaussianNB\n",
    "from sklearn.tree import DecisionTreeClassifier\n",
    "from tqdm import tqdm"
   ]
  },
  {
   "cell_type": "markdown",
   "metadata": {},
   "source": [
    "## Train Test Split"
   ]
  },
  {
   "cell_type": "code",
   "execution_count": 40,
   "metadata": {},
   "outputs": [
    {
     "data": {
      "text/plain": [
       "((890, 19), (890,), (418, 19))"
      ]
     },
     "execution_count": 40,
     "metadata": {},
     "output_type": "execute_result"
    }
   ],
   "source": [
    "X_train = train_cleaned.drop('Survived', axis=1) #Features\n",
    "y_train = train_cleaned['Survived'] #Target\n",
    "X_test  = test_cleaned.drop('Survived', axis=1)\n",
    "X_train.shape, y_train.shape, X_test.shape #Verify everything has the right dimensions"
   ]
  },
  {
   "cell_type": "markdown",
   "metadata": {},
   "source": [
    "## Run Models\n",
    "\n",
    "I created a function to run all my models."
   ]
  },
  {
   "cell_type": "code",
   "execution_count": 41,
   "metadata": {},
   "outputs": [],
   "source": [
    "models = {\n",
    "    'Logistic Regression' : LogisticRegression(),\n",
    "    'KNN' : KNeighborsClassifier(),\n",
    "    'SVM' : SVC(),\n",
    "    'Naive Bayes Classifier' : GaussianNB(),\n",
    "    'Decision Tree' : DecisionTreeClassifier(),\n",
    "    'Random Forest' : RandomForestClassifier(),\n",
    "    'Perceptron' : Perceptron()\n",
    "}"
   ]
  },
  {
   "cell_type": "code",
   "execution_count": 42,
   "metadata": {},
   "outputs": [],
   "source": [
    "def run_model(model, X_train, y_train, X_test):\n",
    "    model.fit(X_train, y_train)\n",
    "    model.predict(X_test)\n",
    "    return{\n",
    "        'Accuracy': round(model.score(X_train, y_train) * 100, 2)\n",
    "    }"
   ]
  },
  {
   "cell_type": "code",
   "execution_count": 43,
   "metadata": {},
   "outputs": [
    {
     "name": "stderr",
     "output_type": "stream",
     "text": [
      "100%|████████████████████████████████████████████| 7/7 [00:00<00:00, 30.41it/s]\n"
     ]
    }
   ],
   "source": [
    "results = {}\n",
    "model_name = models.keys()\n",
    "for name in tqdm(model_name):\n",
    "    results[name] = run_model(models[name], X_train, y_train, X_test)"
   ]
  },
  {
   "cell_type": "markdown",
   "metadata": {},
   "source": [
    "## Conclusions"
   ]
  },
  {
   "cell_type": "code",
   "execution_count": 44,
   "metadata": {
    "scrolled": false
   },
   "outputs": [
    {
     "data": {
      "text/html": [
       "<div>\n",
       "<style scoped>\n",
       "    .dataframe tbody tr th:only-of-type {\n",
       "        vertical-align: middle;\n",
       "    }\n",
       "\n",
       "    .dataframe tbody tr th {\n",
       "        vertical-align: top;\n",
       "    }\n",
       "\n",
       "    .dataframe thead th {\n",
       "        text-align: right;\n",
       "    }\n",
       "</style>\n",
       "<table border=\"1\" class=\"dataframe\">\n",
       "  <thead>\n",
       "    <tr style=\"text-align: right;\">\n",
       "      <th></th>\n",
       "      <th>Accuracy</th>\n",
       "    </tr>\n",
       "  </thead>\n",
       "  <tbody>\n",
       "    <tr>\n",
       "      <th>Decision Tree</th>\n",
       "      <td>98.43</td>\n",
       "    </tr>\n",
       "    <tr>\n",
       "      <th>Random Forest</th>\n",
       "      <td>96.74</td>\n",
       "    </tr>\n",
       "    <tr>\n",
       "      <th>SVM</th>\n",
       "      <td>86.40</td>\n",
       "    </tr>\n",
       "    <tr>\n",
       "      <th>Logistic Regression</th>\n",
       "      <td>83.26</td>\n",
       "    </tr>\n",
       "    <tr>\n",
       "      <th>Naive Bayes Classifier</th>\n",
       "      <td>81.91</td>\n",
       "    </tr>\n",
       "    <tr>\n",
       "      <th>KNN</th>\n",
       "      <td>81.46</td>\n",
       "    </tr>\n",
       "    <tr>\n",
       "      <th>Perceptron</th>\n",
       "      <td>71.12</td>\n",
       "    </tr>\n",
       "  </tbody>\n",
       "</table>\n",
       "</div>"
      ],
      "text/plain": [
       "                        Accuracy\n",
       "Decision Tree              98.43\n",
       "Random Forest              96.74\n",
       "SVM                        86.40\n",
       "Logistic Regression        83.26\n",
       "Naive Bayes Classifier     81.91\n",
       "KNN                        81.46\n",
       "Perceptron                 71.12"
      ]
     },
     "execution_count": 44,
     "metadata": {},
     "output_type": "execute_result"
    }
   ],
   "source": [
    "pd.DataFrame(results).T.sort_values(by = 'Accuracy', ascending = False)"
   ]
  },
  {
   "cell_type": "markdown",
   "metadata": {},
   "source": [
    "At this point, it seemed like decision tree was my best performer. Therefore, I created my first submission file and scored ~72%."
   ]
  },
  {
   "cell_type": "code",
   "execution_count": 45,
   "metadata": {},
   "outputs": [],
   "source": [
    "# How to Create a Submission File\n",
    "submission = pd.DataFrame({\n",
    "        'PassengerId': test['PassengerId'],\n",
    "        'Survived': DecisionTreeClassifier().fit(X_train, y_train).predict(X_test).astype(int)\n",
    "    })\n",
    "submission.to_csv('submission.csv', index=False)"
   ]
  },
  {
   "cell_type": "markdown",
   "metadata": {},
   "source": [
    "One major problem of my model was that it overfit on the training data and performed worse on Kaggle test. I realized one way to solve this issue is to split my training data into its own train and test split and withhold my testing data set. Once I have determined the best model for my training set, then I can use it for the test dataset."
   ]
  },
  {
   "cell_type": "code",
   "execution_count": 72,
   "metadata": {},
   "outputs": [],
   "source": [
    "# New Train Test Split\n",
    "features = train_cleaned.drop('Survived', axis=1)\n",
    "target = train_cleaned['Survived']\n",
    "X_train, X_test, y_train, y_test = train_test_split(features, target, test_size=0.4, random_state=100)"
   ]
  },
  {
   "cell_type": "code",
   "execution_count": 73,
   "metadata": {},
   "outputs": [
    {
     "name": "stderr",
     "output_type": "stream",
     "text": [
      "100%|████████████████████████████████████████████| 7/7 [00:00<00:00, 13.45it/s]\n"
     ]
    },
    {
     "data": {
      "text/html": [
       "<div>\n",
       "<style scoped>\n",
       "    .dataframe tbody tr th:only-of-type {\n",
       "        vertical-align: middle;\n",
       "    }\n",
       "\n",
       "    .dataframe tbody tr th {\n",
       "        vertical-align: top;\n",
       "    }\n",
       "\n",
       "    .dataframe thead th {\n",
       "        text-align: right;\n",
       "    }\n",
       "</style>\n",
       "<table border=\"1\" class=\"dataframe\">\n",
       "  <thead>\n",
       "    <tr style=\"text-align: right;\">\n",
       "      <th></th>\n",
       "      <th>Model Name</th>\n",
       "      <th>Test Score</th>\n",
       "      <th>Train Score</th>\n",
       "    </tr>\n",
       "  </thead>\n",
       "  <tbody>\n",
       "    <tr>\n",
       "      <th>Decision Tree</th>\n",
       "      <td>Decision Tree</td>\n",
       "      <td>78.09</td>\n",
       "      <td>98.88</td>\n",
       "    </tr>\n",
       "    <tr>\n",
       "      <th>KNN</th>\n",
       "      <td>KNN</td>\n",
       "      <td>68.82</td>\n",
       "      <td>79.96</td>\n",
       "    </tr>\n",
       "    <tr>\n",
       "      <th>Logistic Regression</th>\n",
       "      <td>Logistic Regression</td>\n",
       "      <td>82.3</td>\n",
       "      <td>82.96</td>\n",
       "    </tr>\n",
       "    <tr>\n",
       "      <th>Naive Bayes Classifier</th>\n",
       "      <td>Naive Bayes Classifier</td>\n",
       "      <td>79.49</td>\n",
       "      <td>81.46</td>\n",
       "    </tr>\n",
       "    <tr>\n",
       "      <th>Perceptron</th>\n",
       "      <td>Perceptron</td>\n",
       "      <td>72.19</td>\n",
       "      <td>70.22</td>\n",
       "    </tr>\n",
       "    <tr>\n",
       "      <th>Random Forest</th>\n",
       "      <td>Random Forest</td>\n",
       "      <td>77.81</td>\n",
       "      <td>97.57</td>\n",
       "    </tr>\n",
       "    <tr>\n",
       "      <th>SVM</th>\n",
       "      <td>SVM</td>\n",
       "      <td>74.16</td>\n",
       "      <td>88.76</td>\n",
       "    </tr>\n",
       "  </tbody>\n",
       "</table>\n",
       "</div>"
      ],
      "text/plain": [
       "                                    Model Name Test Score Train Score\n",
       "Decision Tree                    Decision Tree      78.09       98.88\n",
       "KNN                                        KNN      68.82       79.96\n",
       "Logistic Regression        Logistic Regression       82.3       82.96\n",
       "Naive Bayes Classifier  Naive Bayes Classifier      79.49       81.46\n",
       "Perceptron                          Perceptron      72.19       70.22\n",
       "Random Forest                    Random Forest      77.81       97.57\n",
       "SVM                                        SVM      74.16       88.76"
      ]
     },
     "execution_count": 73,
     "metadata": {},
     "output_type": "execute_result"
    }
   ],
   "source": [
    "def run_model(model, model_name, x_train, x_test, y_train, y_test):\n",
    "    \n",
    "    _ = model.fit(x_train, y_train)\n",
    "    train_predict = model.predict(x_train)\n",
    "    test_predict = model.predict(x_test)   \n",
    "    \n",
    "    return {\n",
    "            'Model Name' : model_name,\n",
    "            'Train Score' : round(model.score(x_train, y_train) * 100, 2),\n",
    "            'Test Score' : round(model.score(x_test, y_test) * 100, 2)\n",
    "    }\n",
    "\n",
    "results = {}\n",
    "model_name = models.keys()\n",
    "for name in tqdm(model_name):\n",
    "    results[name] = run_model(models[name], name, X_train, X_test, y_train, y_test)\n",
    "    \n",
    "pd.DataFrame(results).T"
   ]
  },
  {
   "cell_type": "markdown",
   "metadata": {},
   "source": [
    "The train score is similar to the results I had previously obtained, verifying that they were indeed overfitted. The new test scores are a more accurate measure of which model would perform the best with my dataset. Logistic Regression and Random Forest performed the best. In order to further improve my model, I will tune its hyperparameters."
   ]
  },
  {
   "cell_type": "markdown",
   "metadata": {},
   "source": [
    "<a id='Hyperparameter Tuning'></a>\n",
    "\n",
    "# 04. Hyperparameter Tuning\n",
    "\n",
    "I will choose the top two algorithms from above and tune the parameters."
   ]
  },
  {
   "cell_type": "code",
   "execution_count": 74,
   "metadata": {},
   "outputs": [],
   "source": [
    "from sklearn.metrics import make_scorer, accuracy_score\n",
    "from sklearn.model_selection import GridSearchCV"
   ]
  },
  {
   "cell_type": "markdown",
   "metadata": {},
   "source": [
    "## Logistic Regression"
   ]
  },
  {
   "cell_type": "code",
   "execution_count": 88,
   "metadata": {},
   "outputs": [
    {
     "data": {
      "text/plain": [
       "LogisticRegression(C=31, class_weight=None, dual=False, fit_intercept=True,\n",
       "          intercept_scaling=1, max_iter=100, multi_class='ovr', n_jobs=1,\n",
       "          penalty='l1', random_state=None, solver='liblinear', tol=0.0001,\n",
       "          verbose=0, warm_start=False)"
      ]
     },
     "execution_count": 88,
     "metadata": {},
     "output_type": "execute_result"
    }
   ],
   "source": [
    "logr = LogisticRegression()\n",
    "parameters = {'penalty': ['l1', 'l2'], \n",
    "              'C' : range(20,40)\n",
    "             }\n",
    "\n",
    "acc_scorer = make_scorer(accuracy_score)\n",
    "\n",
    "# Run the 10-fold grid search\n",
    "grid_obj = GridSearchCV(logr, parameters, cv = 10, scoring=acc_scorer)\n",
    "grid_obj = grid_obj.fit(X_train, y_train)\n",
    "\n",
    "# Set the algorithm to the best combination of parameters\n",
    "logr = grid_obj.best_estimator_\n",
    "\n",
    "# Fit the best algorithm to the data. \n",
    "logr.fit(X_train, y_train)"
   ]
  },
  {
   "cell_type": "code",
   "execution_count": 89,
   "metadata": {
    "scrolled": true
   },
   "outputs": [
    {
     "data": {
      "text/plain": [
       "82.77"
      ]
     },
     "execution_count": 89,
     "metadata": {},
     "output_type": "execute_result"
    }
   ],
   "source": [
    "logr.predict(X_test)\n",
    "round(logr.score(X_train, y_train) * 100, 2)"
   ]
  },
  {
   "cell_type": "markdown",
   "metadata": {},
   "source": [
    "## Random Forest"
   ]
  },
  {
   "cell_type": "code",
   "execution_count": 78,
   "metadata": {
    "scrolled": true
   },
   "outputs": [
    {
     "data": {
      "text/plain": [
       "RandomForestClassifier(bootstrap=True, class_weight=None, criterion='entropy',\n",
       "            max_depth=4, max_features='sqrt', max_leaf_nodes=None,\n",
       "            min_impurity_decrease=0.0, min_impurity_split=None,\n",
       "            min_samples_leaf=4, min_samples_split=3,\n",
       "            min_weight_fraction_leaf=0.0, n_estimators=3, n_jobs=1,\n",
       "            oob_score=False, random_state=None, verbose=0,\n",
       "            warm_start=False)"
      ]
     },
     "execution_count": 78,
     "metadata": {},
     "output_type": "execute_result"
    }
   ],
   "source": [
    "rfc = RandomForestClassifier()\n",
    "parameters = {'max_features': ['log2', 'sqrt','auto'], \n",
    "              'criterion': ['entropy'],\n",
    "              'max_depth': range(1,10), \n",
    "              'min_samples_split': range(2,5),\n",
    "              'min_samples_leaf': range(1,5),\n",
    "              'n_estimators': range(2,10)\n",
    "             }\n",
    "\n",
    "acc_scorer = make_scorer(accuracy_score)\n",
    "\n",
    "# Run the 10-fold grid search\n",
    "grid_obj = GridSearchCV(rfc, parameters, cv = 10, scoring=acc_scorer)\n",
    "grid_obj = grid_obj.fit(X_train, y_train)\n",
    "\n",
    "# Set the algorithm to the best combination of parameters\n",
    "rfc = grid_obj.best_estimator_\n",
    "\n",
    "# Fit the best algorithm to the data. \n",
    "rfc.fit(X_train, y_train)"
   ]
  },
  {
   "cell_type": "code",
   "execution_count": 79,
   "metadata": {
    "scrolled": true
   },
   "outputs": [
    {
     "data": {
      "text/plain": [
       "80.9"
      ]
     },
     "execution_count": 79,
     "metadata": {},
     "output_type": "execute_result"
    }
   ],
   "source": [
    "rfc.predict(X_test)\n",
    "round(rfc.score(X_train, y_train) * 100, 2)"
   ]
  },
  {
   "cell_type": "markdown",
   "metadata": {},
   "source": [
    "## Conclusions\n",
    "\n",
    "Both models seem to improve after tuning. I am going to use the logistic regression and predict the survival rates of the test data set."
   ]
  },
  {
   "cell_type": "code",
   "execution_count": 93,
   "metadata": {},
   "outputs": [],
   "source": [
    "submission = pd.DataFrame({ \n",
    "        'PassengerId': test['PassengerId'],\n",
    "        'Survived': logr.predict(test_cleaned.drop('Survived', axis=1)).astype(int)\n",
    "    })\n",
    "submission.to_csv('submission.csv', index=False)"
   ]
  },
  {
   "cell_type": "markdown",
   "metadata": {},
   "source": [
    "This performed a substantial 8% higher than before, bringing my current score to 78.4%. \n",
    "\n",
    "<a id='Reflection'></a>\n",
    "\n",
    "# 05. Reflection\n",
    "\n",
    "This was my first time completing an entire Kaggle competition. Previously, I did most of my work in R and using Python was different. I didn't find the language as intuitive and it also made me really appreciate R's ggplot. However, the model fitting portion was definitely easier with Python.\n",
    "\n",
    "**Ways to Improve:**  \n",
    "- Use ensemble modeling: According to Kaggle, ensembling is a form of meta learning that combines two or more classifiers by averaging or voting. I've gone over other notebooks that discuss ensembling methods, but I personally don't think I understand the theoretical concepts well enough to use them. This is definitely a goal for the future.\n",
    "- Better understand what models to use: I am still learning when is the best time to use what algorithm for different type of problems. My next goal is to understand more mathematical and statisitcal concepts behind these algorithms.\n",
    "\n",
    "Overall, I am happy with my results. With more practice, I am sure my score will improve."
   ]
  }
 ],
 "metadata": {
  "kernelspec": {
   "display_name": "Python 3",
   "language": "python",
   "name": "python3"
  },
  "language_info": {
   "codemirror_mode": {
    "name": "ipython",
    "version": 3
   },
   "file_extension": ".py",
   "mimetype": "text/x-python",
   "name": "python",
   "nbconvert_exporter": "python",
   "pygments_lexer": "ipython3",
   "version": "3.6.4"
  }
 },
 "nbformat": 4,
 "nbformat_minor": 2
}
